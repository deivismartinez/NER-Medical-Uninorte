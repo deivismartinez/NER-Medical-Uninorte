{
  "cells": [
    {
      "cell_type": "markdown",
      "metadata": {
        "id": "view-in-github",
        "colab_type": "text"
      },
      "source": [
        "<a href=\"https://colab.research.google.com/github/deivismartinez/NER-Medical-Uninorte/blob/main/NER.ipynb\" target=\"_parent\"><img src=\"https://colab.research.google.com/assets/colab-badge.svg\" alt=\"Open In Colab\"/></a>"
      ]
    },
    {
      "cell_type": "code",
      "execution_count": 40,
      "metadata": {
        "id": "7jNIcyoFAZlF",
        "colab": {
          "base_uri": "https://localhost:8080/"
        },
        "outputId": "bfdc8302-db10-49f4-f048-ad0ca1bbd998"
      },
      "outputs": [
        {
          "output_type": "stream",
          "name": "stdout",
          "text": [
            "Looking in indexes: https://pypi.org/simple, https://us-python.pkg.dev/colab-wheels/public/simple/\n",
            "Requirement already satisfied: transformers in /usr/local/lib/python3.9/dist-packages (4.25.1)\n",
            "Requirement already satisfied: sentencepiece in /usr/local/lib/python3.9/dist-packages (0.1.97)\n",
            "Requirement already satisfied: filelock in /usr/local/lib/python3.9/dist-packages (from transformers) (3.10.0)\n",
            "Requirement already satisfied: tqdm>=4.27 in /usr/local/lib/python3.9/dist-packages (from transformers) (4.65.0)\n",
            "Requirement already satisfied: regex!=2019.12.17 in /usr/local/lib/python3.9/dist-packages (from transformers) (2022.10.31)\n",
            "Requirement already satisfied: tokenizers!=0.11.3,<0.14,>=0.11.1 in /usr/local/lib/python3.9/dist-packages (from transformers) (0.13.2)\n",
            "Requirement already satisfied: numpy>=1.17 in /usr/local/lib/python3.9/dist-packages (from transformers) (1.22.4)\n",
            "Requirement already satisfied: pyyaml>=5.1 in /usr/local/lib/python3.9/dist-packages (from transformers) (6.0)\n",
            "Requirement already satisfied: huggingface-hub<1.0,>=0.10.0 in /usr/local/lib/python3.9/dist-packages (from transformers) (0.10.0)\n",
            "Requirement already satisfied: requests in /usr/local/lib/python3.9/dist-packages (from transformers) (2.27.1)\n",
            "Requirement already satisfied: packaging>=20.0 in /usr/local/lib/python3.9/dist-packages (from transformers) (23.0)\n",
            "Requirement already satisfied: typing-extensions>=3.7.4.3 in /usr/local/lib/python3.9/dist-packages (from huggingface-hub<1.0,>=0.10.0->transformers) (4.5.0)\n",
            "Requirement already satisfied: urllib3<1.27,>=1.21.1 in /usr/local/lib/python3.9/dist-packages (from requests->transformers) (1.26.15)\n",
            "Requirement already satisfied: certifi>=2017.4.17 in /usr/local/lib/python3.9/dist-packages (from requests->transformers) (2022.12.7)\n",
            "Requirement already satisfied: idna<4,>=2.5 in /usr/local/lib/python3.9/dist-packages (from requests->transformers) (3.4)\n",
            "Requirement already satisfied: charset-normalizer~=2.0.0 in /usr/local/lib/python3.9/dist-packages (from requests->transformers) (2.0.12)\n",
            "Looking in indexes: https://pypi.org/simple, https://us-python.pkg.dev/colab-wheels/public/simple/\n",
            "Requirement already satisfied: spacy in /usr/local/lib/python3.9/dist-packages (3.5.1)\n",
            "Requirement already satisfied: packaging>=20.0 in /usr/local/lib/python3.9/dist-packages (from spacy) (23.0)\n",
            "Requirement already satisfied: requests<3.0.0,>=2.13.0 in /usr/local/lib/python3.9/dist-packages (from spacy) (2.27.1)\n",
            "Requirement already satisfied: tqdm<5.0.0,>=4.38.0 in /usr/local/lib/python3.9/dist-packages (from spacy) (4.65.0)\n",
            "Requirement already satisfied: jinja2 in /usr/local/lib/python3.9/dist-packages (from spacy) (3.1.2)\n",
            "Requirement already satisfied: pathy>=0.10.0 in /usr/local/lib/python3.9/dist-packages (from spacy) (0.10.1)\n",
            "Requirement already satisfied: spacy-loggers<2.0.0,>=1.0.0 in /usr/local/lib/python3.9/dist-packages (from spacy) (1.0.4)\n",
            "Requirement already satisfied: cymem<2.1.0,>=2.0.2 in /usr/local/lib/python3.9/dist-packages (from spacy) (2.0.7)\n",
            "Requirement already satisfied: spacy-legacy<3.1.0,>=3.0.11 in /usr/local/lib/python3.9/dist-packages (from spacy) (3.0.12)\n",
            "Requirement already satisfied: setuptools in /usr/local/lib/python3.9/dist-packages (from spacy) (63.4.3)\n",
            "Requirement already satisfied: catalogue<2.1.0,>=2.0.6 in /usr/local/lib/python3.9/dist-packages (from spacy) (2.0.8)\n",
            "Requirement already satisfied: pydantic!=1.8,!=1.8.1,<1.11.0,>=1.7.4 in /usr/local/lib/python3.9/dist-packages (from spacy) (1.10.6)\n",
            "Requirement already satisfied: smart-open<7.0.0,>=5.2.1 in /usr/local/lib/python3.9/dist-packages (from spacy) (6.3.0)\n",
            "Requirement already satisfied: preshed<3.1.0,>=3.0.2 in /usr/local/lib/python3.9/dist-packages (from spacy) (3.0.8)\n",
            "Requirement already satisfied: wasabi<1.2.0,>=0.9.1 in /usr/local/lib/python3.9/dist-packages (from spacy) (1.1.1)\n",
            "Requirement already satisfied: thinc<8.2.0,>=8.1.8 in /usr/local/lib/python3.9/dist-packages (from spacy) (8.1.9)\n",
            "Requirement already satisfied: numpy>=1.15.0 in /usr/local/lib/python3.9/dist-packages (from spacy) (1.22.4)\n",
            "Requirement already satisfied: murmurhash<1.1.0,>=0.28.0 in /usr/local/lib/python3.9/dist-packages (from spacy) (1.0.9)\n",
            "Requirement already satisfied: typer<0.8.0,>=0.3.0 in /usr/local/lib/python3.9/dist-packages (from spacy) (0.7.0)\n",
            "Requirement already satisfied: srsly<3.0.0,>=2.4.3 in /usr/local/lib/python3.9/dist-packages (from spacy) (2.4.6)\n",
            "Requirement already satisfied: langcodes<4.0.0,>=3.2.0 in /usr/local/lib/python3.9/dist-packages (from spacy) (3.3.0)\n",
            "Requirement already satisfied: typing-extensions>=4.2.0 in /usr/local/lib/python3.9/dist-packages (from pydantic!=1.8,!=1.8.1,<1.11.0,>=1.7.4->spacy) (4.5.0)\n",
            "Requirement already satisfied: idna<4,>=2.5 in /usr/local/lib/python3.9/dist-packages (from requests<3.0.0,>=2.13.0->spacy) (3.4)\n",
            "Requirement already satisfied: certifi>=2017.4.17 in /usr/local/lib/python3.9/dist-packages (from requests<3.0.0,>=2.13.0->spacy) (2022.12.7)\n",
            "Requirement already satisfied: charset-normalizer~=2.0.0 in /usr/local/lib/python3.9/dist-packages (from requests<3.0.0,>=2.13.0->spacy) (2.0.12)\n",
            "Requirement already satisfied: urllib3<1.27,>=1.21.1 in /usr/local/lib/python3.9/dist-packages (from requests<3.0.0,>=2.13.0->spacy) (1.26.15)\n",
            "Requirement already satisfied: blis<0.8.0,>=0.7.8 in /usr/local/lib/python3.9/dist-packages (from thinc<8.2.0,>=8.1.8->spacy) (0.7.9)\n",
            "Requirement already satisfied: confection<1.0.0,>=0.0.1 in /usr/local/lib/python3.9/dist-packages (from thinc<8.2.0,>=8.1.8->spacy) (0.0.4)\n",
            "Requirement already satisfied: click<9.0.0,>=7.1.1 in /usr/local/lib/python3.9/dist-packages (from typer<0.8.0,>=0.3.0->spacy) (8.1.3)\n",
            "Requirement already satisfied: MarkupSafe>=2.0 in /usr/local/lib/python3.9/dist-packages (from jinja2->spacy) (2.1.2)\n",
            "/usr/local/lib/python3.9/dist-packages/torch/cuda/__init__.py:497: UserWarning: Can't initialize NVML\n",
            "  warnings.warn(\"Can't initialize NVML\")\n",
            "2023-03-22 17:40:02.527073: W tensorflow/compiler/xla/stream_executor/platform/default/dso_loader.cc:64] Could not load dynamic library 'libnvinfer.so.7'; dlerror: libnvinfer.so.7: cannot open shared object file: No such file or directory; LD_LIBRARY_PATH: /usr/local/nvidia/lib:/usr/local/nvidia/lib64\n",
            "2023-03-22 17:40:02.527231: W tensorflow/compiler/xla/stream_executor/platform/default/dso_loader.cc:64] Could not load dynamic library 'libnvinfer_plugin.so.7'; dlerror: libnvinfer_plugin.so.7: cannot open shared object file: No such file or directory; LD_LIBRARY_PATH: /usr/local/nvidia/lib:/usr/local/nvidia/lib64\n",
            "2023-03-22 17:40:02.527261: W tensorflow/compiler/tf2tensorrt/utils/py_utils.cc:38] TF-TRT Warning: Cannot dlopen some TensorRT libraries. If you would like to use Nvidia GPU with TensorRT, please make sure the missing libraries mentioned above are installed properly.\n",
            "2023-03-22 17:40:06.346554: E tensorflow/compiler/xla/stream_executor/cuda/cuda_driver.cc:267] failed call to cuInit: CUDA_ERROR_NO_DEVICE: no CUDA-capable device is detected\n",
            "Looking in indexes: https://pypi.org/simple, https://us-python.pkg.dev/colab-wheels/public/simple/\n",
            "Collecting es-core-news-md==3.5.0\n",
            "  Downloading https://github.com/explosion/spacy-models/releases/download/es_core_news_md-3.5.0/es_core_news_md-3.5.0-py3-none-any.whl (42.3 MB)\n",
            "\u001b[2K     \u001b[90m━━━━━━━━━━━━━━━━━━━━━━━━━━━━━━━━━━━━━━━━\u001b[0m \u001b[32m42.3/42.3 MB\u001b[0m \u001b[31m18.8 MB/s\u001b[0m eta \u001b[36m0:00:00\u001b[0m\n",
            "\u001b[?25hRequirement already satisfied: spacy<3.6.0,>=3.5.0 in /usr/local/lib/python3.9/dist-packages (from es-core-news-md==3.5.0) (3.5.1)\n",
            "Requirement already satisfied: numpy>=1.15.0 in /usr/local/lib/python3.9/dist-packages (from spacy<3.6.0,>=3.5.0->es-core-news-md==3.5.0) (1.22.4)\n",
            "Requirement already satisfied: thinc<8.2.0,>=8.1.8 in /usr/local/lib/python3.9/dist-packages (from spacy<3.6.0,>=3.5.0->es-core-news-md==3.5.0) (8.1.9)\n",
            "Requirement already satisfied: langcodes<4.0.0,>=3.2.0 in /usr/local/lib/python3.9/dist-packages (from spacy<3.6.0,>=3.5.0->es-core-news-md==3.5.0) (3.3.0)\n",
            "Requirement already satisfied: srsly<3.0.0,>=2.4.3 in /usr/local/lib/python3.9/dist-packages (from spacy<3.6.0,>=3.5.0->es-core-news-md==3.5.0) (2.4.6)\n",
            "Requirement already satisfied: jinja2 in /usr/local/lib/python3.9/dist-packages (from spacy<3.6.0,>=3.5.0->es-core-news-md==3.5.0) (3.1.2)\n",
            "Requirement already satisfied: tqdm<5.0.0,>=4.38.0 in /usr/local/lib/python3.9/dist-packages (from spacy<3.6.0,>=3.5.0->es-core-news-md==3.5.0) (4.65.0)\n",
            "Requirement already satisfied: catalogue<2.1.0,>=2.0.6 in /usr/local/lib/python3.9/dist-packages (from spacy<3.6.0,>=3.5.0->es-core-news-md==3.5.0) (2.0.8)\n",
            "Requirement already satisfied: preshed<3.1.0,>=3.0.2 in /usr/local/lib/python3.9/dist-packages (from spacy<3.6.0,>=3.5.0->es-core-news-md==3.5.0) (3.0.8)\n",
            "Requirement already satisfied: smart-open<7.0.0,>=5.2.1 in /usr/local/lib/python3.9/dist-packages (from spacy<3.6.0,>=3.5.0->es-core-news-md==3.5.0) (6.3.0)\n",
            "Requirement already satisfied: wasabi<1.2.0,>=0.9.1 in /usr/local/lib/python3.9/dist-packages (from spacy<3.6.0,>=3.5.0->es-core-news-md==3.5.0) (1.1.1)\n",
            "Requirement already satisfied: requests<3.0.0,>=2.13.0 in /usr/local/lib/python3.9/dist-packages (from spacy<3.6.0,>=3.5.0->es-core-news-md==3.5.0) (2.27.1)\n",
            "Requirement already satisfied: murmurhash<1.1.0,>=0.28.0 in /usr/local/lib/python3.9/dist-packages (from spacy<3.6.0,>=3.5.0->es-core-news-md==3.5.0) (1.0.9)\n",
            "Requirement already satisfied: cymem<2.1.0,>=2.0.2 in /usr/local/lib/python3.9/dist-packages (from spacy<3.6.0,>=3.5.0->es-core-news-md==3.5.0) (2.0.7)\n",
            "Requirement already satisfied: spacy-legacy<3.1.0,>=3.0.11 in /usr/local/lib/python3.9/dist-packages (from spacy<3.6.0,>=3.5.0->es-core-news-md==3.5.0) (3.0.12)\n",
            "Requirement already satisfied: typer<0.8.0,>=0.3.0 in /usr/local/lib/python3.9/dist-packages (from spacy<3.6.0,>=3.5.0->es-core-news-md==3.5.0) (0.7.0)\n",
            "Requirement already satisfied: packaging>=20.0 in /usr/local/lib/python3.9/dist-packages (from spacy<3.6.0,>=3.5.0->es-core-news-md==3.5.0) (23.0)\n",
            "Requirement already satisfied: spacy-loggers<2.0.0,>=1.0.0 in /usr/local/lib/python3.9/dist-packages (from spacy<3.6.0,>=3.5.0->es-core-news-md==3.5.0) (1.0.4)\n",
            "Requirement already satisfied: pathy>=0.10.0 in /usr/local/lib/python3.9/dist-packages (from spacy<3.6.0,>=3.5.0->es-core-news-md==3.5.0) (0.10.1)\n",
            "Requirement already satisfied: pydantic!=1.8,!=1.8.1,<1.11.0,>=1.7.4 in /usr/local/lib/python3.9/dist-packages (from spacy<3.6.0,>=3.5.0->es-core-news-md==3.5.0) (1.10.6)\n",
            "Requirement already satisfied: setuptools in /usr/local/lib/python3.9/dist-packages (from spacy<3.6.0,>=3.5.0->es-core-news-md==3.5.0) (63.4.3)\n",
            "Requirement already satisfied: typing-extensions>=4.2.0 in /usr/local/lib/python3.9/dist-packages (from pydantic!=1.8,!=1.8.1,<1.11.0,>=1.7.4->spacy<3.6.0,>=3.5.0->es-core-news-md==3.5.0) (4.5.0)\n",
            "Requirement already satisfied: urllib3<1.27,>=1.21.1 in /usr/local/lib/python3.9/dist-packages (from requests<3.0.0,>=2.13.0->spacy<3.6.0,>=3.5.0->es-core-news-md==3.5.0) (1.26.15)\n",
            "Requirement already satisfied: certifi>=2017.4.17 in /usr/local/lib/python3.9/dist-packages (from requests<3.0.0,>=2.13.0->spacy<3.6.0,>=3.5.0->es-core-news-md==3.5.0) (2022.12.7)\n",
            "Requirement already satisfied: charset-normalizer~=2.0.0 in /usr/local/lib/python3.9/dist-packages (from requests<3.0.0,>=2.13.0->spacy<3.6.0,>=3.5.0->es-core-news-md==3.5.0) (2.0.12)\n",
            "Requirement already satisfied: idna<4,>=2.5 in /usr/local/lib/python3.9/dist-packages (from requests<3.0.0,>=2.13.0->spacy<3.6.0,>=3.5.0->es-core-news-md==3.5.0) (3.4)\n",
            "Requirement already satisfied: blis<0.8.0,>=0.7.8 in /usr/local/lib/python3.9/dist-packages (from thinc<8.2.0,>=8.1.8->spacy<3.6.0,>=3.5.0->es-core-news-md==3.5.0) (0.7.9)\n",
            "Requirement already satisfied: confection<1.0.0,>=0.0.1 in /usr/local/lib/python3.9/dist-packages (from thinc<8.2.0,>=8.1.8->spacy<3.6.0,>=3.5.0->es-core-news-md==3.5.0) (0.0.4)\n",
            "Requirement already satisfied: click<9.0.0,>=7.1.1 in /usr/local/lib/python3.9/dist-packages (from typer<0.8.0,>=0.3.0->spacy<3.6.0,>=3.5.0->es-core-news-md==3.5.0) (8.1.3)\n",
            "Requirement already satisfied: MarkupSafe>=2.0 in /usr/local/lib/python3.9/dist-packages (from jinja2->spacy<3.6.0,>=3.5.0->es-core-news-md==3.5.0) (2.1.2)\n",
            "\u001b[38;5;2m✔ Download and installation successful\u001b[0m\n",
            "You can now load the package via spacy.load('es_core_news_md')\n",
            "Looking in indexes: https://pypi.org/simple, https://us-python.pkg.dev/colab-wheels/public/simple/\n",
            "Requirement already satisfied: flair in /usr/local/lib/python3.9/dist-packages (0.12.1)\n",
            "Requirement already satisfied: janome in /usr/local/lib/python3.9/dist-packages (from flair) (0.4.2)\n",
            "Requirement already satisfied: lxml in /usr/local/lib/python3.9/dist-packages (from flair) (4.9.2)\n",
            "Requirement already satisfied: gensim>=3.8.0 in /usr/local/lib/python3.9/dist-packages (from flair) (4.3.1)\n",
            "Requirement already satisfied: pptree in /usr/local/lib/python3.9/dist-packages (from flair) (3.1)\n",
            "Requirement already satisfied: sqlitedict>=1.6.0 in /usr/local/lib/python3.9/dist-packages (from flair) (2.1.0)\n",
            "Requirement already satisfied: scikit-learn>=0.21.3 in /usr/local/lib/python3.9/dist-packages (from flair) (1.2.2)\n",
            "Requirement already satisfied: hyperopt>=0.2.7 in /usr/local/lib/python3.9/dist-packages (from flair) (0.2.7)\n",
            "Requirement already satisfied: segtok>=1.5.7 in /usr/local/lib/python3.9/dist-packages (from flair) (1.5.11)\n",
            "Requirement already satisfied: python-dateutil>=2.6.1 in /usr/local/lib/python3.9/dist-packages (from flair) (2.8.2)\n",
            "Requirement already satisfied: tabulate in /usr/local/lib/python3.9/dist-packages (from flair) (0.8.10)\n",
            "Requirement already satisfied: more-itertools in /usr/local/lib/python3.9/dist-packages (from flair) (9.1.0)\n",
            "Requirement already satisfied: langdetect in /usr/local/lib/python3.9/dist-packages (from flair) (1.0.9)\n",
            "Requirement already satisfied: transformer-smaller-training-vocab>=0.2.0 in /usr/local/lib/python3.9/dist-packages (from flair) (0.2.2)\n",
            "Requirement already satisfied: torch!=1.8,>=1.5.0 in /usr/local/lib/python3.9/dist-packages (from flair) (1.13.1+cu116)\n",
            "Requirement already satisfied: matplotlib>=2.2.3 in /usr/local/lib/python3.9/dist-packages (from flair) (3.7.1)\n",
            "Requirement already satisfied: regex in /usr/local/lib/python3.9/dist-packages (from flair) (2022.10.31)\n",
            "Requirement already satisfied: huggingface-hub==0.10.0 in /usr/local/lib/python3.9/dist-packages (from flair) (0.10.0)\n",
            "Requirement already satisfied: conllu>=4.0 in /usr/local/lib/python3.9/dist-packages (from flair) (4.5.2)\n",
            "Requirement already satisfied: transformers[sentencepiece]>=4.18.0 in /usr/local/lib/python3.9/dist-packages (from flair) (4.25.1)\n",
            "Requirement already satisfied: boto3 in /usr/local/lib/python3.9/dist-packages (from flair) (1.26.96)\n",
            "Requirement already satisfied: wikipedia-api in /usr/local/lib/python3.9/dist-packages (from flair) (0.5.8)\n",
            "Requirement already satisfied: bpemb>=0.3.2 in /usr/local/lib/python3.9/dist-packages (from flair) (0.3.4)\n",
            "Requirement already satisfied: deprecated>=1.2.4 in /usr/local/lib/python3.9/dist-packages (from flair) (1.2.13)\n",
            "Requirement already satisfied: gdown==4.4.0 in /usr/local/lib/python3.9/dist-packages (from flair) (4.4.0)\n",
            "Requirement already satisfied: tqdm>=4.26.0 in /usr/local/lib/python3.9/dist-packages (from flair) (4.65.0)\n",
            "Requirement already satisfied: pytorch-revgrad in /usr/local/lib/python3.9/dist-packages (from flair) (0.2.0)\n",
            "Requirement already satisfied: mpld3==0.3 in /usr/local/lib/python3.9/dist-packages (from flair) (0.3)\n",
            "Requirement already satisfied: ftfy in /usr/local/lib/python3.9/dist-packages (from flair) (6.1.1)\n",
            "Requirement already satisfied: beautifulsoup4 in /usr/local/lib/python3.9/dist-packages (from gdown==4.4.0->flair) (4.11.2)\n",
            "Requirement already satisfied: filelock in /usr/local/lib/python3.9/dist-packages (from gdown==4.4.0->flair) (3.10.0)\n",
            "Requirement already satisfied: requests[socks] in /usr/local/lib/python3.9/dist-packages (from gdown==4.4.0->flair) (2.27.1)\n",
            "Requirement already satisfied: six in /usr/local/lib/python3.9/dist-packages (from gdown==4.4.0->flair) (1.16.0)\n",
            "Requirement already satisfied: pyyaml>=5.1 in /usr/local/lib/python3.9/dist-packages (from huggingface-hub==0.10.0->flair) (6.0)\n",
            "Requirement already satisfied: packaging>=20.9 in /usr/local/lib/python3.9/dist-packages (from huggingface-hub==0.10.0->flair) (23.0)\n",
            "Requirement already satisfied: typing-extensions>=3.7.4.3 in /usr/local/lib/python3.9/dist-packages (from huggingface-hub==0.10.0->flair) (4.5.0)\n",
            "Requirement already satisfied: sentencepiece in /usr/local/lib/python3.9/dist-packages (from bpemb>=0.3.2->flair) (0.1.97)\n",
            "Requirement already satisfied: numpy in /usr/local/lib/python3.9/dist-packages (from bpemb>=0.3.2->flair) (1.22.4)\n",
            "Requirement already satisfied: wrapt<2,>=1.10 in /usr/local/lib/python3.9/dist-packages (from deprecated>=1.2.4->flair) (1.15.0)\n",
            "Requirement already satisfied: smart-open>=1.8.1 in /usr/local/lib/python3.9/dist-packages (from gensim>=3.8.0->flair) (6.3.0)\n",
            "Requirement already satisfied: scipy>=1.7.0 in /usr/local/lib/python3.9/dist-packages (from gensim>=3.8.0->flair) (1.10.1)\n",
            "Requirement already satisfied: py4j in /usr/local/lib/python3.9/dist-packages (from hyperopt>=0.2.7->flair) (0.10.9.7)\n",
            "Requirement already satisfied: future in /usr/local/lib/python3.9/dist-packages (from hyperopt>=0.2.7->flair) (0.18.3)\n",
            "Requirement already satisfied: networkx>=2.2 in /usr/local/lib/python3.9/dist-packages (from hyperopt>=0.2.7->flair) (3.0)\n",
            "Requirement already satisfied: cloudpickle in /usr/local/lib/python3.9/dist-packages (from hyperopt>=0.2.7->flair) (2.2.1)\n",
            "Requirement already satisfied: fonttools>=4.22.0 in /usr/local/lib/python3.9/dist-packages (from matplotlib>=2.2.3->flair) (4.39.2)\n",
            "Requirement already satisfied: kiwisolver>=1.0.1 in /usr/local/lib/python3.9/dist-packages (from matplotlib>=2.2.3->flair) (1.4.4)\n",
            "Requirement already satisfied: importlib-resources>=3.2.0 in /usr/local/lib/python3.9/dist-packages (from matplotlib>=2.2.3->flair) (5.12.0)\n",
            "Requirement already satisfied: contourpy>=1.0.1 in /usr/local/lib/python3.9/dist-packages (from matplotlib>=2.2.3->flair) (1.0.7)\n",
            "Requirement already satisfied: cycler>=0.10 in /usr/local/lib/python3.9/dist-packages (from matplotlib>=2.2.3->flair) (0.11.0)\n",
            "Requirement already satisfied: pillow>=6.2.0 in /usr/local/lib/python3.9/dist-packages (from matplotlib>=2.2.3->flair) (8.4.0)\n",
            "Requirement already satisfied: pyparsing>=2.3.1 in /usr/local/lib/python3.9/dist-packages (from matplotlib>=2.2.3->flair) (3.0.9)\n",
            "Requirement already satisfied: joblib>=1.1.1 in /usr/local/lib/python3.9/dist-packages (from scikit-learn>=0.21.3->flair) (1.1.1)\n",
            "Requirement already satisfied: threadpoolctl>=2.0.0 in /usr/local/lib/python3.9/dist-packages (from scikit-learn>=0.21.3->flair) (3.1.0)\n",
            "Requirement already satisfied: datasets<3.0.0,>=2.0.0 in /usr/local/lib/python3.9/dist-packages (from transformer-smaller-training-vocab>=0.2.0->flair) (2.10.1)\n",
            "Requirement already satisfied: tokenizers!=0.11.3,<0.14,>=0.11.1 in /usr/local/lib/python3.9/dist-packages (from transformers[sentencepiece]>=4.18.0->flair) (0.13.2)\n",
            "Requirement already satisfied: protobuf<=3.20.2 in /usr/local/lib/python3.9/dist-packages (from transformers[sentencepiece]>=4.18.0->flair) (3.19.6)\n",
            "Requirement already satisfied: botocore<1.30.0,>=1.29.96 in /usr/local/lib/python3.9/dist-packages (from boto3->flair) (1.29.96)\n",
            "Requirement already satisfied: jmespath<2.0.0,>=0.7.1 in /usr/local/lib/python3.9/dist-packages (from boto3->flair) (1.0.1)\n",
            "Requirement already satisfied: s3transfer<0.7.0,>=0.6.0 in /usr/local/lib/python3.9/dist-packages (from boto3->flair) (0.6.0)\n",
            "Requirement already satisfied: wcwidth>=0.2.5 in /usr/local/lib/python3.9/dist-packages (from ftfy->flair) (0.2.6)\n",
            "Requirement already satisfied: urllib3<1.27,>=1.25.4 in /usr/local/lib/python3.9/dist-packages (from botocore<1.30.0,>=1.29.96->boto3->flair) (1.26.15)\n",
            "Requirement already satisfied: aiohttp in /usr/local/lib/python3.9/dist-packages (from datasets<3.0.0,>=2.0.0->transformer-smaller-training-vocab>=0.2.0->flair) (3.8.4)\n",
            "Requirement already satisfied: xxhash in /usr/local/lib/python3.9/dist-packages (from datasets<3.0.0,>=2.0.0->transformer-smaller-training-vocab>=0.2.0->flair) (3.2.0)\n",
            "Requirement already satisfied: dill<0.3.7,>=0.3.0 in /usr/local/lib/python3.9/dist-packages (from datasets<3.0.0,>=2.0.0->transformer-smaller-training-vocab>=0.2.0->flair) (0.3.6)\n",
            "Requirement already satisfied: fsspec[http]>=2021.11.1 in /usr/local/lib/python3.9/dist-packages (from datasets<3.0.0,>=2.0.0->transformer-smaller-training-vocab>=0.2.0->flair) (2023.3.0)\n",
            "Requirement already satisfied: responses<0.19 in /usr/local/lib/python3.9/dist-packages (from datasets<3.0.0,>=2.0.0->transformer-smaller-training-vocab>=0.2.0->flair) (0.18.0)\n",
            "Requirement already satisfied: pyarrow>=6.0.0 in /usr/local/lib/python3.9/dist-packages (from datasets<3.0.0,>=2.0.0->transformer-smaller-training-vocab>=0.2.0->flair) (9.0.0)\n",
            "Requirement already satisfied: pandas in /usr/local/lib/python3.9/dist-packages (from datasets<3.0.0,>=2.0.0->transformer-smaller-training-vocab>=0.2.0->flair) (1.4.4)\n",
            "Requirement already satisfied: multiprocess in /usr/local/lib/python3.9/dist-packages (from datasets<3.0.0,>=2.0.0->transformer-smaller-training-vocab>=0.2.0->flair) (0.70.14)\n",
            "Requirement already satisfied: zipp>=3.1.0 in /usr/local/lib/python3.9/dist-packages (from importlib-resources>=3.2.0->matplotlib>=2.2.3->flair) (3.15.0)\n",
            "Requirement already satisfied: idna<4,>=2.5 in /usr/local/lib/python3.9/dist-packages (from requests[socks]->gdown==4.4.0->flair) (3.4)\n",
            "Requirement already satisfied: certifi>=2017.4.17 in /usr/local/lib/python3.9/dist-packages (from requests[socks]->gdown==4.4.0->flair) (2022.12.7)\n",
            "Requirement already satisfied: charset-normalizer~=2.0.0 in /usr/local/lib/python3.9/dist-packages (from requests[socks]->gdown==4.4.0->flair) (2.0.12)\n",
            "Requirement already satisfied: soupsieve>1.2 in /usr/local/lib/python3.9/dist-packages (from beautifulsoup4->gdown==4.4.0->flair) (2.4)\n",
            "Requirement already satisfied: PySocks!=1.5.7,>=1.5.6 in /usr/local/lib/python3.9/dist-packages (from requests[socks]->gdown==4.4.0->flair) (1.7.1)\n",
            "Requirement already satisfied: frozenlist>=1.1.1 in /usr/local/lib/python3.9/dist-packages (from aiohttp->datasets<3.0.0,>=2.0.0->transformer-smaller-training-vocab>=0.2.0->flair) (1.3.3)\n",
            "Requirement already satisfied: async-timeout<5.0,>=4.0.0a3 in /usr/local/lib/python3.9/dist-packages (from aiohttp->datasets<3.0.0,>=2.0.0->transformer-smaller-training-vocab>=0.2.0->flair) (4.0.2)\n",
            "Requirement already satisfied: attrs>=17.3.0 in /usr/local/lib/python3.9/dist-packages (from aiohttp->datasets<3.0.0,>=2.0.0->transformer-smaller-training-vocab>=0.2.0->flair) (22.2.0)\n",
            "Requirement already satisfied: yarl<2.0,>=1.0 in /usr/local/lib/python3.9/dist-packages (from aiohttp->datasets<3.0.0,>=2.0.0->transformer-smaller-training-vocab>=0.2.0->flair) (1.8.2)\n",
            "Requirement already satisfied: aiosignal>=1.1.2 in /usr/local/lib/python3.9/dist-packages (from aiohttp->datasets<3.0.0,>=2.0.0->transformer-smaller-training-vocab>=0.2.0->flair) (1.3.1)\n",
            "Requirement already satisfied: multidict<7.0,>=4.5 in /usr/local/lib/python3.9/dist-packages (from aiohttp->datasets<3.0.0,>=2.0.0->transformer-smaller-training-vocab>=0.2.0->flair) (6.0.4)\n",
            "Requirement already satisfied: pytz>=2020.1 in /usr/local/lib/python3.9/dist-packages (from pandas->datasets<3.0.0,>=2.0.0->transformer-smaller-training-vocab>=0.2.0->flair) (2022.7.1)\n",
            "Looking in indexes: https://pypi.org/simple, https://us-python.pkg.dev/colab-wheels/public/simple/\n",
            "Requirement already satisfied: stanza in /usr/local/lib/python3.9/dist-packages (1.5.0)\n",
            "Requirement already satisfied: protobuf in /usr/local/lib/python3.9/dist-packages (from stanza) (3.19.6)\n",
            "Requirement already satisfied: requests in /usr/local/lib/python3.9/dist-packages (from stanza) (2.27.1)\n",
            "Requirement already satisfied: numpy in /usr/local/lib/python3.9/dist-packages (from stanza) (1.22.4)\n",
            "Requirement already satisfied: torch>=1.3.0 in /usr/local/lib/python3.9/dist-packages (from stanza) (1.13.1+cu116)\n",
            "Requirement already satisfied: emoji in /usr/local/lib/python3.9/dist-packages (from stanza) (2.2.0)\n",
            "Requirement already satisfied: tqdm in /usr/local/lib/python3.9/dist-packages (from stanza) (4.65.0)\n",
            "Requirement already satisfied: six in /usr/local/lib/python3.9/dist-packages (from stanza) (1.16.0)\n",
            "Requirement already satisfied: typing-extensions in /usr/local/lib/python3.9/dist-packages (from torch>=1.3.0->stanza) (4.5.0)\n",
            "Requirement already satisfied: urllib3<1.27,>=1.21.1 in /usr/local/lib/python3.9/dist-packages (from requests->stanza) (1.26.15)\n",
            "Requirement already satisfied: certifi>=2017.4.17 in /usr/local/lib/python3.9/dist-packages (from requests->stanza) (2022.12.7)\n",
            "Requirement already satisfied: idna<4,>=2.5 in /usr/local/lib/python3.9/dist-packages (from requests->stanza) (3.4)\n",
            "Requirement already satisfied: charset-normalizer~=2.0.0 in /usr/local/lib/python3.9/dist-packages (from requests->stanza) (2.0.12)\n"
          ]
        }
      ],
      "source": [
        "#!pip install transformers\n",
        "!pip install --no-cache-dir transformers sentencepiece\n",
        "!pip install spacy\n",
        "!python -m spacy download es_core_news_md\n",
        "!pip install flair\n",
        "!pip install stanza"
      ]
    },
    {
      "cell_type": "code",
      "execution_count": 7,
      "metadata": {
        "id": "Bo6h_ZufAWcl"
      },
      "outputs": [],
      "source": [
        "from transformers import pipeline, AutoTokenizer\n",
        "from transformers.models.bert.modeling_bert import BertModel,BertForMaskedLM\n",
        "import json\n",
        "from pathlib import Path\n",
        "from google.colab import files\n",
        "from os import listdir\n",
        "from os.path import isfile, join\n",
        "import spacy\n",
        "from matplotlib import pyplot as plt\n",
        "from math import ceil\n",
        "import shutil\n",
        "import os\n",
        "import zipfile\n",
        "import glob\n",
        "from flair.data import Sentence\n",
        "from flair.models import SequenceTagger\n",
        "import stanza"
      ]
    },
    {
      "cell_type": "code",
      "execution_count": null,
      "metadata": {
        "id": "r84d1yHa2MQC"
      },
      "outputs": [],
      "source": [
        "tagger = SequenceTagger.load(\"flair/ner-multi\")"
      ]
    },
    {
      "cell_type": "code",
      "source": [
        "stanza.download('es') # download Spanish model\n",
        "nlp_stanza = stanza.Pipeline('es') # initialize Spanish neural pipeline"
      ],
      "metadata": {
        "colab": {
          "base_uri": "https://localhost:8080/",
          "height": 668,
          "referenced_widgets": [
            "46790768ae744748a1776212b3246ce7",
            "094558c2329749d2ade3e11434c760f7",
            "ecb1678d92064d359af31ccc4337c1ed",
            "d19b3e9894204954a7442c2f375aa437",
            "edb8a62041174aee9ad803d46c2ef7a0",
            "4b986d10c4774589b20f44eb17df20f8",
            "73ff45fdf8784300a5b95adc9ca5d410",
            "e4dafe1f2e274ce69a3ed1e8e982c027",
            "0549035aa3f54cecb57ce8d50cf808cc",
            "4ae953cd038646989b05663b66a58e60",
            "086f4a9814b44a8a99816e1f58eac4e7",
            "49c252ec3911401db33fe7fd14220358",
            "4edb5de4083d49dcbbeed161d9efe9a5",
            "e40fd4c8d1364a39a3fc6552b310f40e",
            "1c0fea633eeb4b7f8749b5a0acaa6c4a",
            "aa691f16ae194e03bf323e02ec88d310",
            "15e2021429874f2c8e43d6c70990066a",
            "ad3b9bb8bb514c27b82030c025f11b80",
            "e8b580d6bf9941d7b0d5521dc3d6533e",
            "795b001905cc4ed6947d7daf7c0eec84",
            "6c52dbf346384692ae3be0459c253a22",
            "678cf42175f64407aa4d06b329156e0c"
          ]
        },
        "id": "duxXEq2Sp0k0",
        "outputId": "2c2b3ff2-7177-4e06-889d-a650c8496497"
      },
      "execution_count": 8,
      "outputs": [
        {
          "output_type": "display_data",
          "data": {
            "text/plain": [
              "Downloading https://raw.githubusercontent.com/stanfordnlp/stanza-resources/main/resources_1.5.0.json:   0%|   …"
            ],
            "application/vnd.jupyter.widget-view+json": {
              "version_major": 2,
              "version_minor": 0,
              "model_id": "46790768ae744748a1776212b3246ce7"
            }
          },
          "metadata": {}
        },
        {
          "output_type": "stream",
          "name": "stderr",
          "text": [
            "INFO:stanza:Downloading default packages for language: es (Spanish) ...\n",
            "INFO:stanza:File exists: /root/stanza_resources/es/default.zip\n",
            "INFO:stanza:Finished downloading models and saved to /root/stanza_resources.\n",
            "INFO:stanza:Checking for updates to resources.json in case models have been updated.  Note: this behavior can be turned off with download_method=None or download_method=DownloadMethod.REUSE_RESOURCES\n"
          ]
        },
        {
          "output_type": "display_data",
          "data": {
            "text/plain": [
              "Downloading https://raw.githubusercontent.com/stanfordnlp/stanza-resources/main/resources_1.5.0.json:   0%|   …"
            ],
            "application/vnd.jupyter.widget-view+json": {
              "version_major": 2,
              "version_minor": 0,
              "model_id": "49c252ec3911401db33fe7fd14220358"
            }
          },
          "metadata": {}
        },
        {
          "output_type": "stream",
          "name": "stderr",
          "text": [
            "INFO:stanza:Loading these models for language: es (Spanish):\n",
            "===========================\n",
            "| Processor    | Package  |\n",
            "---------------------------\n",
            "| tokenize     | ancora   |\n",
            "| mwt          | ancora   |\n",
            "| pos          | ancora   |\n",
            "| lemma        | ancora   |\n",
            "| constituency | combined |\n",
            "| depparse     | ancora   |\n",
            "| sentiment    | tass2020 |\n",
            "| ner          | conll02  |\n",
            "===========================\n",
            "\n",
            "INFO:stanza:Using device: cpu\n",
            "INFO:stanza:Loading: tokenize\n",
            "INFO:stanza:Loading: mwt\n",
            "INFO:stanza:Loading: pos\n",
            "INFO:stanza:Loading: lemma\n",
            "INFO:stanza:Loading: constituency\n",
            "INFO:stanza:Loading: depparse\n",
            "INFO:stanza:Loading: sentiment\n",
            "INFO:stanza:Loading: ner\n",
            "INFO:stanza:Done loading processors!\n"
          ]
        }
      ]
    },
    {
      "cell_type": "code",
      "execution_count": null,
      "metadata": {
        "id": "2q1unnwOU8_Q"
      },
      "outputs": [],
      "source": [
        "!wget https://zenodo.org/record/4279323/files/meddocan.zip?download=1 -O meddocan.zip"
      ]
    },
    {
      "cell_type": "code",
      "execution_count": null,
      "metadata": {
        "id": "k3MKJGmLU_Rs"
      },
      "outputs": [],
      "source": [
        "!unzip meddocan.zip"
      ]
    },
    {
      "cell_type": "code",
      "execution_count": 9,
      "metadata": {
        "id": "uZcj5ytyAR99"
      },
      "outputs": [],
      "source": [
        "nlp = spacy.load(\"es_core_news_md\")"
      ]
    },
    {
      "cell_type": "code",
      "execution_count": 10,
      "metadata": {
        "id": "pdwA4hf_VgEw"
      },
      "outputs": [],
      "source": [
        "dataset = {}\n",
        "for path in (Path('dev'), Path('test'), Path('train')):\n",
        "    dir_path = Path('meddocan')/path/Path('brat')\n",
        "    filenames = tuple(f[:-4] for f in listdir(dir_path) if isfile(join(dir_path, f)) if f[-4:] == '.txt')\n",
        "    dataset[str(path)] = []\n",
        "    for file_name in filenames:\n",
        "      d = dict()\n",
        "      with open(dir_path/Path(file_name+'.txt'), 'r') as f:\n",
        "        dataset[str(path)].append({\"text\":f.read(),\"file\":file_name,\"file_name_path\":dir_path/Path(file_name+'.txt')})"
      ]
    },
    {
      "cell_type": "code",
      "execution_count": null,
      "metadata": {
        "id": "xkXzSk_sSfdF"
      },
      "outputs": [],
      "source": [
        "!wget https://raw.githubusercontent.com/deivismartinez/NER-Medical-Uninorte/main/tag.json"
      ]
    },
    {
      "cell_type": "code",
      "execution_count": 11,
      "metadata": {
        "id": "fRt1_zo8GnSd"
      },
      "outputs": [],
      "source": [
        "def get_models():\n",
        "  models = [\n",
        "    {\"id\":1,\"name\":\"roberta-large-bne-capitel-ner\", \"folder\":\"PlanTL-GOB-ES/\"},\n",
        "    {\"id\":2,\"name\":\"roberta-base-bne-capitel-ner-plus\", \"folder\":\"PlanTL-GOB-ES/\"},\n",
        "    {\"id\":3,\"name\":\"roberta-base-bne-capitel-ner\", \"folder\":\"PlanTL-GOB-ES/\"},\n",
        "    {\"id\":4,\"name\":\"bsc-bio-ehr-es-pharmaconer\", \"folder\":\"PlanTL-GOB-ES/\"},\n",
        "    {\"id\":5,\"name\":\"roberta-base-bne-capitel-pos\", \"folder\":\"PlanTL-GOB-ES/\"},\n",
        "    {\"id\":6,\"name\":\"bert-base-multilingual-cased-ner-hrl\", \"folder\":\"Davlan/\"},\n",
        "    {\"id\":7,\"name\":\"xlm-roberta-base-wikiann-ner\", \"folder\":\"Davlan/\"},\n",
        "    {\"id\":8,\"name\":\"xlm-roberta-base-ner-hrl\", \"folder\":\"Davlan/\"},\n",
        "    {\"id\":9,\"name\":\"distilbert-base-multilingual-cased-ner-hrl\", \"folder\":\"Davlan/\"},\n",
        "    {\"id\":10,\"name\":\"xlm-roberta-large-ner-hrl\", \"folder\":\"Davlan/\"},\n",
        "    {\"id\":11,\"name\":\"bert-spanish-cased-finetuned-ner\", \"folder\":\"mrm8488/\"},\n",
        "    {\"id\":12,\"name\":\"TinyBERT-spanish-uncased-finetuned-ner\", \"folder\":\"mrm8488/\"},\n",
        "    {\"id\":13,\"name\":\"RuPERTa-base-finetuned-ner\", \"folder\":\"mrm8488/\"},\n",
        "    {\"id\":14,\"name\":\"ner-spanish-large\", \"folder\":\"flair/\"},\n",
        "    {\"id\":15,\"name\":\"ner-multi\", \"folder\":\"flair/\"},\n",
        "    {\"id\":16,\"name\":\"anglicisms-spanish-mbert\", \"folder\":\"lirondos/\"},\n",
        "    {\"id\":17,\"name\":\"anglicisms-spanish-flair-cs\", \"folder\":\"lirondos/\"},\n",
        "    {\"id\":18,\"name\":\"xlm-roberta-large-ner-spanish\", \"folder\":\"MMG/\"},\n",
        "    {\"id\":19,\"name\":\"wikineural-multilingual-ner\", \"folder\":\"Babelscape/\"},\n",
        "    {\"id\":20,\"name\":\"distilbert-base-multilingual-cased-finetuned-conll2003-ner\", \"folder\":\"gunghio/\"},\n",
        "    {\"id\":21,\"name\":\"bertin-base-ner-conll2002-es\", \"folder\":\"bertin-project/\"},\n",
        "    {\"id\":22,\"name\":\"xlm-roberta-base-finetuned-panx-ner\", \"folder\":\"gunghio/\"},\n",
        "    {\"id\":23,\"name\":\"stanza-es\", \"folder\":\"stanfordnlp/\"},\n",
        "    ]\n",
        "  return models"
      ]
    },
    {
      "cell_type": "code",
      "execution_count": 12,
      "metadata": {
        "id": "1_xSXFOA63N1"
      },
      "outputs": [],
      "source": [
        "def select_model(model_index):\n",
        "  models = get_models()\n",
        "  if model_index > len(models):\n",
        "    #print(\"Model index not exist, from 1 to \"+str(len(models)))\n",
        "    return None\n",
        "  else:\n",
        "    model = models[model_index-1].get(\"folder\") + models[model_index-1].get(\"name\")\n",
        "    return model"
      ]
    },
    {
      "cell_type": "code",
      "execution_count": 13,
      "metadata": {
        "id": "r5scJQKkG7qH"
      },
      "outputs": [],
      "source": [
        "def save_models(folder_base):\n",
        "  models = get_models()\n",
        "  models_dict = {\"models\":models}\n",
        "  with open(folder_base+\"models.json\", \"w\") as fp:\n",
        "    json.dump(models_dict, fp)"
      ]
    },
    {
      "cell_type": "code",
      "execution_count": null,
      "metadata": {
        "id": "Mplv4mJKrEEp"
      },
      "outputs": [],
      "source": [
        "save_models('system')"
      ]
    },
    {
      "cell_type": "code",
      "execution_count": 14,
      "metadata": {
        "id": "wbJMT51z3MO0"
      },
      "outputs": [],
      "source": [
        "def get_ner_pipe(model):\n",
        "  ner_pipe = pipeline(task=\"ner\", model = model)\n",
        "  return ner_pipe"
      ]
    },
    {
      "cell_type": "code",
      "execution_count": 15,
      "metadata": {
        "id": "t7E8mFQrrMB9"
      },
      "outputs": [],
      "source": [
        "file = open(\"tag.json\",\"r\")\n",
        "tag = json.load(file)\n",
        "file.close()\n",
        "def get_tag(entity):\n",
        "  tags=[\"LOC\",\"PER\",\"ORG\", \"OTH\"]\n",
        "  for tag_l in tags:\n",
        "    if tag_l in entity:\n",
        "      return tag[tag_l]\n",
        "  return \"NEW TAG\""
      ]
    },
    {
      "cell_type": "code",
      "execution_count": 16,
      "metadata": {
        "id": "6KdxtBtwYYUy"
      },
      "outputs": [],
      "source": [
        "def get_tokenizer(model):\n",
        "  tokenizer = AutoTokenizer.from_pretrained(model,add_prefix_space=True)\n",
        "  #do_grafic(tokenizer)\n",
        "  return tokenizer"
      ]
    },
    {
      "cell_type": "code",
      "execution_count": 17,
      "metadata": {
        "id": "1hP-u5dtc7dS"
      },
      "outputs": [],
      "source": [
        "def do_grafic(tokenizer):\n",
        "  token_length = [len(tokenizer(x.get('text'))['input_ids']) for x in dataset['test']]\n",
        "  plt.hist(token_length)"
      ]
    },
    {
      "cell_type": "code",
      "execution_count": 18,
      "metadata": {
        "id": "KqDha5mEcY-0"
      },
      "outputs": [],
      "source": [
        "def change_start_end(list_values, n_string):\n",
        "  #print(f\"list_values:::::::: {list_values}\")\n",
        "  for entity in list_values:\n",
        "    entity[\"start\"] = entity.get(\"start\") + n_string\n",
        "    entity[\"end\"] = entity.get(\"end\") + n_string\n",
        "  return list_values"
      ]
    },
    {
      "cell_type": "code",
      "execution_count": 19,
      "metadata": {
        "id": "c18S3DUsSIlN"
      },
      "outputs": [],
      "source": [
        "def build_file_new(entity_list, file_name, min_score = 0.5):\n",
        "  t = 0\n",
        "  #print(f\"LISTA:::: {entity_list}\")\n",
        "  file= open(file_name,\"w\")\n",
        "  end_last = -1\n",
        "  entity_last = \"\"\n",
        "  word_last = \"\"\n",
        "  #print(f\"LISTA:::: {entity_list}\")\n",
        "  for entity in entity_list:\n",
        "      #print('--------------Entity Actual::: ',entity['entity'],'-----------',entity['word'].replace('Ġ',' ').replace('Ã±','ñ').replace('Ã¡','á').replace('Ã©','é').replace('ÃŃ','í').replace('Ã³','ó').replace('Ãº','ú'))\n",
        "      if entity['score'] > min_score:\n",
        "        if (entity['start'] == end_last or end_last == -1) or ((entity['start'] == (end_last+1)) \n",
        "        and get_tag(entity['entity']) == get_tag(entity_last)):\n",
        "          word_last += entity['word']\n",
        "          if end_last == -1:\n",
        "            start_first = entity['start']\n",
        "            entity_first = entity['entity']\n",
        "        else:\n",
        "          t += 1\n",
        "          end_now = entity['end']\n",
        "          entity_now = get_tag(entity_first)\n",
        "          row = 'T'+str(t) +'\\t'+ str(entity_now) +' ' + str(start_first) +' '+ str(end_last) +'\\t' + word_last.replace('Ġ',' ').replace('Ã±','ñ').replace('Ã¡','á').replace('Ã©','é').replace('ÃŃ','í').replace('Ã³','ó').replace('Ãº','ú') +'\\n'\n",
        "          if(entity_now!='OTHER'):\n",
        "            file.write(row)\n",
        "          word_last = entity['word']\n",
        "          start_first = entity['start']\n",
        "          entity_first = entity['entity']\n",
        "        end_last = entity['end']\n",
        "        entity_last = entity['entity']\n",
        "  t += 1\n",
        "  entity_now = get_tag(entity_first)\n",
        "  row = 'T'+str(t) +'\\t'+ str(entity_now) +' ' + str(start_first) +' '+ str(end_last) +'\\t' + word_last.replace('Ġ',' ').replace('Ã±','ñ').replace('Ã¡','á').replace('Ã©','é').replace('ÃŃ','í').replace('Ã³','ó').replace('Ãº','ú') +'\\n'\n",
        "  #print(f\"ROW::::::::::: {row}\")\n",
        "  #print(f\"entity_now::::::::::: {entity_now}\")\n",
        "  #print(f\"file_name::::::::::: {file_name}\")\n",
        "  if(entity_now!='OTHER'):\n",
        "    file.write(row)\n",
        "  file.close ()"
      ]
    },
    {
      "cell_type": "code",
      "execution_count": 20,
      "metadata": {
        "id": "Kec7jy_SdRlL"
      },
      "outputs": [],
      "source": [
        "def get_values_512(texto, ner_pipe, model_index, tokenizer):\n",
        "  max_length = 479\n",
        "  \n",
        "  n_string = -1\n",
        "  ner_output = []\n",
        "  model = select_model(model_index)\n",
        "  if model != None:\n",
        "    #tokenizer = get_tokenizer(model)\n",
        "    tokens = tokenizer(texto)['input_ids']\n",
        "    #print(f\"Cantidad de tokens totals = {len(tokens)}\")\n",
        "    if len(tokens) % max_length == 0:\n",
        "      max_length = 477\n",
        "    if len(tokens) > max_length:\n",
        "      n_partitions = ceil(len(tokens) / max_length)\n",
        "      for i in range(n_partitions):\n",
        "        #print(f\"ESte es el valor de i = {i}\")\n",
        "        #print(f\"ESte es el valor de n_partitions = {n_partitions}\")\n",
        "        end_index = (i+1)*max_length\n",
        "        #print(end_index)\n",
        "        if end_index > len(tokens):\n",
        "          #print(f\"SI ENTRA AL ULTIMO  -   -----  {n_partitions}\")\n",
        "          end_index  = len(tokens) - 1\n",
        "        #print(end_index)\n",
        "        token_sequence = tokens[i*max_length:end_index]\n",
        "        #print(token_sequence)\n",
        "        string_sequence = tokenizer.decode(token_sequence, \n",
        "                                          skip_special_tokens=True,\n",
        "                                          clean_up_tokenization_spaces=False)\n",
        "        #print(f\"string_sequence = {string_sequence}\")\n",
        "        new_list = change_start_end(ner_pipe(string_sequence), n_string)\n",
        "        #print(f\"new_list = {new_list}\")\n",
        "        ner_output.extend(new_list)\n",
        "        n_string = n_string + len(string_sequence)\n",
        "      if n_string != len(texto):\n",
        "        print(f'Original length: {len(texto)} vs Decoded Size {n_string}')\n",
        "    else:\n",
        "      ner_output.extend(ner_pipe(texto))\n",
        "  if len(ner_output) < 1:\n",
        "    #ner_output.append({'entity': 'B-ENG', 'score': 0.9959002, 'index': 165, 'word': 'e', 'start': 0, 'end': 0})\n",
        "    print(texto)\n",
        "  return ner_output"
      ]
    },
    {
      "cell_type": "code",
      "source": [
        "def get_values_estanza(text):\n",
        "  list_int = []\n",
        "  i = 0\n",
        "  doc = nlp_stanza(text)\n",
        "  for entity in doc.entities:\n",
        "    i+=1\n",
        "    dictonary = {}\n",
        "    dictonary[\"entity\"] = entity.type\n",
        "    dictonary[\"score\"] = 0.7\n",
        "    dictonary[\"index\"] = i\n",
        "    dictonary[\"word\"] = entity.text\n",
        "    dictonary[\"start\"] = entity.start_char\n",
        "    dictonary[\"end\"] = entity.end_char\n",
        "    list_int.append(dictonary)\n",
        "  return list_int"
      ],
      "metadata": {
        "id": "lt9In4bEpRft"
      },
      "execution_count": 21,
      "outputs": []
    },
    {
      "cell_type": "code",
      "execution_count": 22,
      "metadata": {
        "id": "0YpLxbbcxoVj"
      },
      "outputs": [],
      "source": [
        "def get_values_flair(text):\n",
        "  sentence = Sentence(text)\n",
        "  tagger.predict(sentence)\n",
        "  entity = sentence.get_spans('ner')\n",
        "  list = []\n",
        "  i = 0\n",
        "  for one_entity in entity:\n",
        "    i+=1\n",
        "    dictonary = {}\n",
        "    dictonary[\"entity\"] = one_entity.get_label().value\n",
        "    dictonary[\"score\"] = round(one_entity.get_label().score,4)\n",
        "    dictonary[\"index\"] = i\n",
        "    dictonary[\"word\"] = one_entity.text\n",
        "    dictonary[\"start\"] = one_entity.start_position\n",
        "    dictonary[\"end\"] = one_entity.end_position\n",
        "    list.append(dictonary)\n",
        "  return list"
      ]
    },
    {
      "cell_type": "code",
      "execution_count": 23,
      "metadata": {
        "id": "-oQ4eSm01KDq"
      },
      "outputs": [],
      "source": [
        "def get_values_sents(nlp_var, ner_pipe):\n",
        "  entity_list =  []\n",
        "  sum = 0\n",
        "  #print(type(nlp_var))\n",
        "  for text_npl in nlp_var.sents:\n",
        "    for entity in ner_pipe(str(text_npl)):\n",
        "      entity[\"start\"] = entity.get(\"start\") + sum\n",
        "      entity[\"end\"] = entity.get(\"end\") + sum\n",
        "      entity_list.append(entity)\n",
        "    sum = sum + len(str(text_npl))\n",
        "  return entity_list"
      ]
    },
    {
      "cell_type": "code",
      "execution_count": 24,
      "metadata": {
        "id": "sY5XYlXSjXeP"
      },
      "outputs": [],
      "source": [
        "def get_values_split(text, ner_pipe):\n",
        "  entity_list =  []\n",
        "  text_split = text.split('.')\n",
        "  sum = 0\n",
        "  for text_npl in text_split:\n",
        "    #print(text_npl)\n",
        "    for entity in ner_pipe(str(text_npl)):\n",
        "      entity[\"start\"] = entity.get(\"start\") + sum\n",
        "      entity[\"end\"] = entity.get(\"end\") + sum\n",
        "      entity_list.append(entity)\n",
        "    sum = sum + len(str(text_npl))\n",
        "  return entity_list"
      ]
    },
    {
      "cell_type": "code",
      "execution_count": 25,
      "metadata": {
        "id": "MUk9bJDioFaO"
      },
      "outputs": [],
      "source": [
        "def prepare_file(text, file_name, folder_system, min_score,\n",
        "                 type_text, ner_pipe, model_index, tokenizer):\n",
        "  file_ann_name = folder_system + file_name + \".ann\"\n",
        "  nlp_var = nlp(text)\n",
        "  entity_list = []\n",
        "  if type_text == 0:\n",
        "    entity_list = ner_pipe(str(nlp_var))\n",
        "  elif type_text == 1:\n",
        "    entity_list = get_values_sents(nlp_var, ner_pipe = ner_pipe)\n",
        "  elif type_text == 2:\n",
        "    #print(text)\n",
        "    entity_list = get_values_estanza(text)\n",
        "    \n",
        "    #print(model_index)\n",
        "    #entity_list = get_values_512(text, ner_pipe = ner_pipe,\n",
        "    #                             model_index=model_index, tokenizer=tokenizer) #para los casos atipicos\n",
        "    #print(f\"LISTA:::: {entity_list}\")\n",
        "  elif type_text == 3:\n",
        "    entity_list = get_values_split(text, ner_pipe = ner_pipe)\n",
        "  else:\n",
        "    print(\"Type not exist\")\n",
        "  #print(file_name)\n",
        "  if len(entity_list) > 0:\n",
        "    build_file_new(entity_list,file_ann_name, min_score = min_score)"
      ]
    },
    {
      "cell_type": "code",
      "execution_count": null,
      "metadata": {
        "id": "Pp3NycOGFHRS"
      },
      "outputs": [],
      "source": [
        "file_did = glob.glob(\"/content/system/model_23/test2/*.ann\")\n",
        "file_gold = glob.glob(\"/content/system/gold/*.ann\")\n",
        "print(len(file_gold))\n",
        "print(len(file_did))\n",
        "\n",
        "i = 0\n",
        "nombres = [historia_name[21:-4] for historia_name in file_gold]\n",
        "nombres_did = [historia_name1[31:-4] for historia_name1 in file_did]\n",
        "\n",
        "print(f\"SOLO NOMBRES = {len(nombres)}\")\n",
        "print(nombres)\n",
        "print(nombres_did)\n",
        "faltantes=[]\n",
        "for name in nombres:\n",
        "  if name not in nombres_did:\n",
        "    i=i+1\n",
        "    faltantes.append(name)\n",
        "    print(name+ \"    -----    \" +str(i))"
      ]
    },
    {
      "cell_type": "code",
      "source": [
        "print(faltantes)"
      ],
      "metadata": {
        "colab": {
          "base_uri": "https://localhost:8080/"
        },
        "id": "oeQ-mfq5aE8B",
        "outputId": "a77f4f72-114c-434e-8d6a-398e8b8436fd"
      },
      "execution_count": 39,
      "outputs": [
        {
          "output_type": "stream",
          "name": "stdout",
          "text": [
            "[]\n"
          ]
        }
      ]
    },
    {
      "cell_type": "code",
      "execution_count": 35,
      "metadata": {
        "id": "31sQxVUj_vfB"
      },
      "outputs": [],
      "source": [
        "def builder(min_score, quantity = 1, type_text = 0, model_index = 1):\n",
        "  model = select_model(model_index)\n",
        "  if model != None:\n",
        "    try:\n",
        "      ner_pipe = get_ner_pipe(model)\n",
        "      tokenizer = get_tokenizer(model)\n",
        "    except:\n",
        "      #print(\"No se pudo crear pipeline\")\n",
        "      ner_pipe = \"get_ner_pipe(model)\"\n",
        "      tokenizer = \"get_tokenizer(model)\"\n",
        "    folder_base = \"system/\"\n",
        "    folder_system = folder_base+\"model_\"+str(model_index)+\"/test\"+str(type_text)+\"/\"\n",
        "    folder_gold = folder_base+\"gold/\"\n",
        "    if not Path(folder_system).exists():\n",
        "      path = Path(folder_system)\n",
        "      path.mkdir(parents=True)\n",
        "    if not Path(folder_gold).exists():\n",
        "      path = Path(folder_gold)\n",
        "      path.mkdir(parents=True)\n",
        "    save_models(folder_base)\n",
        "    for text in dataset['test']:\n",
        "      if text.get('file') in faltantes:\n",
        "        try:\n",
        "          path_completo = str(text.get('file_name_path'))\n",
        "          path_completo = path_completo[:-4]\n",
        "          prepare_file(text.get('text'), text.get('file'), folder_system,\n",
        "                      min_score = min_score, type_text = type_text,\n",
        "                      ner_pipe = ner_pipe, model_index = model_index, tokenizer = tokenizer)\n",
        "          shutil.copy(path_completo+\".txt\", folder_gold+text.get('file')+\".txt\")\n",
        "          shutil.copy(path_completo+\".ann\", folder_gold+text.get('file')+\".ann\")\n",
        "          shutil.copy(path_completo+\".txt\", folder_system+text.get('file')+\".txt\")\n",
        "        except:\n",
        "          print(f\"NO PROCESADO   -   ----   --   {text.get('file')}\")\n",
        "      quantity -= 1\n",
        "      print(quantity)\n",
        "      # outside if comment\n",
        "      if quantity < 1:\n",
        "        break"
      ]
    },
    {
      "cell_type": "code",
      "execution_count": 31,
      "metadata": {
        "id": "Efb-XLWWSeY7"
      },
      "outputs": [],
      "source": [
        "def builder_all():\n",
        "  for i in range(0,4):\n",
        "    for j in range(1,25):\n",
        "      builder(type_text = i, min_score = 0.0, quantity = 1, model_index = j)"
      ]
    },
    {
      "cell_type": "code",
      "execution_count": 32,
      "metadata": {
        "id": "GBNd-kCzhzYO"
      },
      "outputs": [],
      "source": [
        "def builder_all_test(start_model = 1, end_model = 1, text = 2, quantity_test = 1):\n",
        "  for number_model in range(start_model,end_model):\n",
        "    builder(min_score = 0.0, quantity = quantity_test, type_text = text, model_index = number_model)"
      ]
    },
    {
      "cell_type": "code",
      "execution_count": 42,
      "metadata": {
        "colab": {
          "base_uri": "https://localhost:8080/"
        },
        "id": "WvEwmjZnrbdv",
        "outputId": "8efc538c-ef34-4ee0-ba4f-7a3eccc4866a"
      },
      "outputs": [
        {
          "output_type": "stream",
          "name": "stdout",
          "text": [
            "5\n",
            "4\n",
            "3\n",
            "2\n",
            "1\n",
            "0\n"
          ]
        }
      ],
      "source": [
        "builder_all_test(start_model = 23, end_model = 24, text = 2, quantity_test = 250)"
      ]
    },
    {
      "cell_type": "markdown",
      "metadata": {
        "id": "ZO06eqKqv2Xe"
      },
      "source": []
    },
    {
      "cell_type": "code",
      "execution_count": 37,
      "metadata": {
        "id": "DAru0mZ7UsCr",
        "colab": {
          "base_uri": "https://localhost:8080/"
        },
        "outputId": "00028215-3da9-417a-9358-d2bdef00ca5d"
      },
      "outputs": [
        {
          "output_type": "stream",
          "name": "stdout",
          "text": [
            "[]\n"
          ]
        }
      ],
      "source": [
        "print(faltantes)"
      ]
    },
    {
      "cell_type": "code",
      "execution_count": null,
      "metadata": {
        "id": "h2GFW4e6k25G"
      },
      "outputs": [],
      "source": [
        "comprimir()\n",
        "downloadFile()"
      ]
    },
    {
      "cell_type": "code",
      "execution_count": null,
      "metadata": {
        "id": "ONgas9UL4A_x"
      },
      "outputs": [],
      "source": [
        "#Las tablas finales con el de test y desarrollo con train\n",
        "builder(type_text = 2, min_score = 0.0, quantity = 1, model_index = 2)"
      ]
    },
    {
      "cell_type": "code",
      "execution_count": null,
      "metadata": {
        "id": "ByIg6BUR6etL"
      },
      "outputs": [],
      "source": [
        "builder(type_text = 1, min_score = 0.0, quantity = 1, model_index = 2)"
      ]
    },
    {
      "cell_type": "code",
      "execution_count": null,
      "metadata": {
        "id": "t6rjULHG6hZh"
      },
      "outputs": [],
      "source": [
        "builder(type_text = 0, min_score = 0.0, quantity = 1, model_index = 2)"
      ]
    },
    {
      "cell_type": "code",
      "execution_count": null,
      "metadata": {
        "id": "nf4cmHj45e6v"
      },
      "outputs": [],
      "source": [
        "def comprimir():\n",
        "  fantasy_zip = zipfile.ZipFile('/content/systemd.zip', 'w')\n",
        "  for folder, subfolders, filesFolder in os.walk('/content/system'): \n",
        "      for file in filesFolder:\n",
        "          if file.endswith('.ann') or file.endswith('.txt') or file.endswith('.json'):\n",
        "              fantasy_zip.write(os.path.join(folder, file), os.path.relpath(os.path.join(folder,file), '/content/system'), compress_type = zipfile.ZIP_DEFLATED)\n",
        "  fantasy_zip.close()"
      ]
    },
    {
      "cell_type": "code",
      "execution_count": null,
      "metadata": {
        "id": "1WChvdrvb7VQ"
      },
      "outputs": [],
      "source": [
        "def downloadFile():\n",
        "  files.download('/content/systemd.zip')"
      ]
    },
    {
      "cell_type": "code",
      "execution_count": null,
      "metadata": {
        "id": "Prbr5AKfcJrU"
      },
      "outputs": [],
      "source": []
    },
    {
      "cell_type": "code",
      "execution_count": null,
      "metadata": {
        "id": "dcyyW-2Thhu6"
      },
      "outputs": [],
      "source": [
        "def remove_file():\n",
        "  from pathlib import Path\n",
        "  folder_system = \"/content/system/\"\n",
        "  folder = Path(folder_system)\n",
        "  for file in folder.iterdir():\n",
        "    try:\n",
        "      file_name = file.name[0:len(file.name)-4]\n",
        "      filePath=Path(folder_system+file_name+\".ann\")\n",
        "      filePath.unlink()\n",
        "    except OSError as e:\n",
        "      print(f\"Error:{ e.strerror}\")"
      ]
    }
  ],
  "metadata": {
    "colab": {
      "provenance": [],
      "authorship_tag": "ABX9TyPKeKIVGq/GyVq/tTjGsPUu",
      "include_colab_link": true
    },
    "kernelspec": {
      "display_name": "Python 3",
      "name": "python3"
    },
    "language_info": {
      "name": "python"
    },
    "widgets": {
      "application/vnd.jupyter.widget-state+json": {
        "46790768ae744748a1776212b3246ce7": {
          "model_module": "@jupyter-widgets/controls",
          "model_name": "HBoxModel",
          "model_module_version": "1.5.0",
          "state": {
            "_dom_classes": [],
            "_model_module": "@jupyter-widgets/controls",
            "_model_module_version": "1.5.0",
            "_model_name": "HBoxModel",
            "_view_count": null,
            "_view_module": "@jupyter-widgets/controls",
            "_view_module_version": "1.5.0",
            "_view_name": "HBoxView",
            "box_style": "",
            "children": [
              "IPY_MODEL_094558c2329749d2ade3e11434c760f7",
              "IPY_MODEL_ecb1678d92064d359af31ccc4337c1ed",
              "IPY_MODEL_d19b3e9894204954a7442c2f375aa437"
            ],
            "layout": "IPY_MODEL_edb8a62041174aee9ad803d46c2ef7a0"
          }
        },
        "094558c2329749d2ade3e11434c760f7": {
          "model_module": "@jupyter-widgets/controls",
          "model_name": "HTMLModel",
          "model_module_version": "1.5.0",
          "state": {
            "_dom_classes": [],
            "_model_module": "@jupyter-widgets/controls",
            "_model_module_version": "1.5.0",
            "_model_name": "HTMLModel",
            "_view_count": null,
            "_view_module": "@jupyter-widgets/controls",
            "_view_module_version": "1.5.0",
            "_view_name": "HTMLView",
            "description": "",
            "description_tooltip": null,
            "layout": "IPY_MODEL_4b986d10c4774589b20f44eb17df20f8",
            "placeholder": "​",
            "style": "IPY_MODEL_73ff45fdf8784300a5b95adc9ca5d410",
            "value": "Downloading https://raw.githubusercontent.com/stanfordnlp/stanza-resources/main/resources_1.5.0.json: "
          }
        },
        "ecb1678d92064d359af31ccc4337c1ed": {
          "model_module": "@jupyter-widgets/controls",
          "model_name": "FloatProgressModel",
          "model_module_version": "1.5.0",
          "state": {
            "_dom_classes": [],
            "_model_module": "@jupyter-widgets/controls",
            "_model_module_version": "1.5.0",
            "_model_name": "FloatProgressModel",
            "_view_count": null,
            "_view_module": "@jupyter-widgets/controls",
            "_view_module_version": "1.5.0",
            "_view_name": "ProgressView",
            "bar_style": "success",
            "description": "",
            "description_tooltip": null,
            "layout": "IPY_MODEL_e4dafe1f2e274ce69a3ed1e8e982c027",
            "max": 29911,
            "min": 0,
            "orientation": "horizontal",
            "style": "IPY_MODEL_0549035aa3f54cecb57ce8d50cf808cc",
            "value": 29911
          }
        },
        "d19b3e9894204954a7442c2f375aa437": {
          "model_module": "@jupyter-widgets/controls",
          "model_name": "HTMLModel",
          "model_module_version": "1.5.0",
          "state": {
            "_dom_classes": [],
            "_model_module": "@jupyter-widgets/controls",
            "_model_module_version": "1.5.0",
            "_model_name": "HTMLModel",
            "_view_count": null,
            "_view_module": "@jupyter-widgets/controls",
            "_view_module_version": "1.5.0",
            "_view_name": "HTMLView",
            "description": "",
            "description_tooltip": null,
            "layout": "IPY_MODEL_4ae953cd038646989b05663b66a58e60",
            "placeholder": "​",
            "style": "IPY_MODEL_086f4a9814b44a8a99816e1f58eac4e7",
            "value": " 200k/? [00:00&lt;00:00, 9.97MB/s]"
          }
        },
        "edb8a62041174aee9ad803d46c2ef7a0": {
          "model_module": "@jupyter-widgets/base",
          "model_name": "LayoutModel",
          "model_module_version": "1.2.0",
          "state": {
            "_model_module": "@jupyter-widgets/base",
            "_model_module_version": "1.2.0",
            "_model_name": "LayoutModel",
            "_view_count": null,
            "_view_module": "@jupyter-widgets/base",
            "_view_module_version": "1.2.0",
            "_view_name": "LayoutView",
            "align_content": null,
            "align_items": null,
            "align_self": null,
            "border": null,
            "bottom": null,
            "display": null,
            "flex": null,
            "flex_flow": null,
            "grid_area": null,
            "grid_auto_columns": null,
            "grid_auto_flow": null,
            "grid_auto_rows": null,
            "grid_column": null,
            "grid_gap": null,
            "grid_row": null,
            "grid_template_areas": null,
            "grid_template_columns": null,
            "grid_template_rows": null,
            "height": null,
            "justify_content": null,
            "justify_items": null,
            "left": null,
            "margin": null,
            "max_height": null,
            "max_width": null,
            "min_height": null,
            "min_width": null,
            "object_fit": null,
            "object_position": null,
            "order": null,
            "overflow": null,
            "overflow_x": null,
            "overflow_y": null,
            "padding": null,
            "right": null,
            "top": null,
            "visibility": null,
            "width": null
          }
        },
        "4b986d10c4774589b20f44eb17df20f8": {
          "model_module": "@jupyter-widgets/base",
          "model_name": "LayoutModel",
          "model_module_version": "1.2.0",
          "state": {
            "_model_module": "@jupyter-widgets/base",
            "_model_module_version": "1.2.0",
            "_model_name": "LayoutModel",
            "_view_count": null,
            "_view_module": "@jupyter-widgets/base",
            "_view_module_version": "1.2.0",
            "_view_name": "LayoutView",
            "align_content": null,
            "align_items": null,
            "align_self": null,
            "border": null,
            "bottom": null,
            "display": null,
            "flex": null,
            "flex_flow": null,
            "grid_area": null,
            "grid_auto_columns": null,
            "grid_auto_flow": null,
            "grid_auto_rows": null,
            "grid_column": null,
            "grid_gap": null,
            "grid_row": null,
            "grid_template_areas": null,
            "grid_template_columns": null,
            "grid_template_rows": null,
            "height": null,
            "justify_content": null,
            "justify_items": null,
            "left": null,
            "margin": null,
            "max_height": null,
            "max_width": null,
            "min_height": null,
            "min_width": null,
            "object_fit": null,
            "object_position": null,
            "order": null,
            "overflow": null,
            "overflow_x": null,
            "overflow_y": null,
            "padding": null,
            "right": null,
            "top": null,
            "visibility": null,
            "width": null
          }
        },
        "73ff45fdf8784300a5b95adc9ca5d410": {
          "model_module": "@jupyter-widgets/controls",
          "model_name": "DescriptionStyleModel",
          "model_module_version": "1.5.0",
          "state": {
            "_model_module": "@jupyter-widgets/controls",
            "_model_module_version": "1.5.0",
            "_model_name": "DescriptionStyleModel",
            "_view_count": null,
            "_view_module": "@jupyter-widgets/base",
            "_view_module_version": "1.2.0",
            "_view_name": "StyleView",
            "description_width": ""
          }
        },
        "e4dafe1f2e274ce69a3ed1e8e982c027": {
          "model_module": "@jupyter-widgets/base",
          "model_name": "LayoutModel",
          "model_module_version": "1.2.0",
          "state": {
            "_model_module": "@jupyter-widgets/base",
            "_model_module_version": "1.2.0",
            "_model_name": "LayoutModel",
            "_view_count": null,
            "_view_module": "@jupyter-widgets/base",
            "_view_module_version": "1.2.0",
            "_view_name": "LayoutView",
            "align_content": null,
            "align_items": null,
            "align_self": null,
            "border": null,
            "bottom": null,
            "display": null,
            "flex": null,
            "flex_flow": null,
            "grid_area": null,
            "grid_auto_columns": null,
            "grid_auto_flow": null,
            "grid_auto_rows": null,
            "grid_column": null,
            "grid_gap": null,
            "grid_row": null,
            "grid_template_areas": null,
            "grid_template_columns": null,
            "grid_template_rows": null,
            "height": null,
            "justify_content": null,
            "justify_items": null,
            "left": null,
            "margin": null,
            "max_height": null,
            "max_width": null,
            "min_height": null,
            "min_width": null,
            "object_fit": null,
            "object_position": null,
            "order": null,
            "overflow": null,
            "overflow_x": null,
            "overflow_y": null,
            "padding": null,
            "right": null,
            "top": null,
            "visibility": null,
            "width": null
          }
        },
        "0549035aa3f54cecb57ce8d50cf808cc": {
          "model_module": "@jupyter-widgets/controls",
          "model_name": "ProgressStyleModel",
          "model_module_version": "1.5.0",
          "state": {
            "_model_module": "@jupyter-widgets/controls",
            "_model_module_version": "1.5.0",
            "_model_name": "ProgressStyleModel",
            "_view_count": null,
            "_view_module": "@jupyter-widgets/base",
            "_view_module_version": "1.2.0",
            "_view_name": "StyleView",
            "bar_color": null,
            "description_width": ""
          }
        },
        "4ae953cd038646989b05663b66a58e60": {
          "model_module": "@jupyter-widgets/base",
          "model_name": "LayoutModel",
          "model_module_version": "1.2.0",
          "state": {
            "_model_module": "@jupyter-widgets/base",
            "_model_module_version": "1.2.0",
            "_model_name": "LayoutModel",
            "_view_count": null,
            "_view_module": "@jupyter-widgets/base",
            "_view_module_version": "1.2.0",
            "_view_name": "LayoutView",
            "align_content": null,
            "align_items": null,
            "align_self": null,
            "border": null,
            "bottom": null,
            "display": null,
            "flex": null,
            "flex_flow": null,
            "grid_area": null,
            "grid_auto_columns": null,
            "grid_auto_flow": null,
            "grid_auto_rows": null,
            "grid_column": null,
            "grid_gap": null,
            "grid_row": null,
            "grid_template_areas": null,
            "grid_template_columns": null,
            "grid_template_rows": null,
            "height": null,
            "justify_content": null,
            "justify_items": null,
            "left": null,
            "margin": null,
            "max_height": null,
            "max_width": null,
            "min_height": null,
            "min_width": null,
            "object_fit": null,
            "object_position": null,
            "order": null,
            "overflow": null,
            "overflow_x": null,
            "overflow_y": null,
            "padding": null,
            "right": null,
            "top": null,
            "visibility": null,
            "width": null
          }
        },
        "086f4a9814b44a8a99816e1f58eac4e7": {
          "model_module": "@jupyter-widgets/controls",
          "model_name": "DescriptionStyleModel",
          "model_module_version": "1.5.0",
          "state": {
            "_model_module": "@jupyter-widgets/controls",
            "_model_module_version": "1.5.0",
            "_model_name": "DescriptionStyleModel",
            "_view_count": null,
            "_view_module": "@jupyter-widgets/base",
            "_view_module_version": "1.2.0",
            "_view_name": "StyleView",
            "description_width": ""
          }
        },
        "49c252ec3911401db33fe7fd14220358": {
          "model_module": "@jupyter-widgets/controls",
          "model_name": "HBoxModel",
          "model_module_version": "1.5.0",
          "state": {
            "_dom_classes": [],
            "_model_module": "@jupyter-widgets/controls",
            "_model_module_version": "1.5.0",
            "_model_name": "HBoxModel",
            "_view_count": null,
            "_view_module": "@jupyter-widgets/controls",
            "_view_module_version": "1.5.0",
            "_view_name": "HBoxView",
            "box_style": "",
            "children": [
              "IPY_MODEL_4edb5de4083d49dcbbeed161d9efe9a5",
              "IPY_MODEL_e40fd4c8d1364a39a3fc6552b310f40e",
              "IPY_MODEL_1c0fea633eeb4b7f8749b5a0acaa6c4a"
            ],
            "layout": "IPY_MODEL_aa691f16ae194e03bf323e02ec88d310"
          }
        },
        "4edb5de4083d49dcbbeed161d9efe9a5": {
          "model_module": "@jupyter-widgets/controls",
          "model_name": "HTMLModel",
          "model_module_version": "1.5.0",
          "state": {
            "_dom_classes": [],
            "_model_module": "@jupyter-widgets/controls",
            "_model_module_version": "1.5.0",
            "_model_name": "HTMLModel",
            "_view_count": null,
            "_view_module": "@jupyter-widgets/controls",
            "_view_module_version": "1.5.0",
            "_view_name": "HTMLView",
            "description": "",
            "description_tooltip": null,
            "layout": "IPY_MODEL_15e2021429874f2c8e43d6c70990066a",
            "placeholder": "​",
            "style": "IPY_MODEL_ad3b9bb8bb514c27b82030c025f11b80",
            "value": "Downloading https://raw.githubusercontent.com/stanfordnlp/stanza-resources/main/resources_1.5.0.json: "
          }
        },
        "e40fd4c8d1364a39a3fc6552b310f40e": {
          "model_module": "@jupyter-widgets/controls",
          "model_name": "FloatProgressModel",
          "model_module_version": "1.5.0",
          "state": {
            "_dom_classes": [],
            "_model_module": "@jupyter-widgets/controls",
            "_model_module_version": "1.5.0",
            "_model_name": "FloatProgressModel",
            "_view_count": null,
            "_view_module": "@jupyter-widgets/controls",
            "_view_module_version": "1.5.0",
            "_view_name": "ProgressView",
            "bar_style": "success",
            "description": "",
            "description_tooltip": null,
            "layout": "IPY_MODEL_e8b580d6bf9941d7b0d5521dc3d6533e",
            "max": 29911,
            "min": 0,
            "orientation": "horizontal",
            "style": "IPY_MODEL_795b001905cc4ed6947d7daf7c0eec84",
            "value": 29911
          }
        },
        "1c0fea633eeb4b7f8749b5a0acaa6c4a": {
          "model_module": "@jupyter-widgets/controls",
          "model_name": "HTMLModel",
          "model_module_version": "1.5.0",
          "state": {
            "_dom_classes": [],
            "_model_module": "@jupyter-widgets/controls",
            "_model_module_version": "1.5.0",
            "_model_name": "HTMLModel",
            "_view_count": null,
            "_view_module": "@jupyter-widgets/controls",
            "_view_module_version": "1.5.0",
            "_view_name": "HTMLView",
            "description": "",
            "description_tooltip": null,
            "layout": "IPY_MODEL_6c52dbf346384692ae3be0459c253a22",
            "placeholder": "​",
            "style": "IPY_MODEL_678cf42175f64407aa4d06b329156e0c",
            "value": " 200k/? [00:00&lt;00:00, 2.56MB/s]"
          }
        },
        "aa691f16ae194e03bf323e02ec88d310": {
          "model_module": "@jupyter-widgets/base",
          "model_name": "LayoutModel",
          "model_module_version": "1.2.0",
          "state": {
            "_model_module": "@jupyter-widgets/base",
            "_model_module_version": "1.2.0",
            "_model_name": "LayoutModel",
            "_view_count": null,
            "_view_module": "@jupyter-widgets/base",
            "_view_module_version": "1.2.0",
            "_view_name": "LayoutView",
            "align_content": null,
            "align_items": null,
            "align_self": null,
            "border": null,
            "bottom": null,
            "display": null,
            "flex": null,
            "flex_flow": null,
            "grid_area": null,
            "grid_auto_columns": null,
            "grid_auto_flow": null,
            "grid_auto_rows": null,
            "grid_column": null,
            "grid_gap": null,
            "grid_row": null,
            "grid_template_areas": null,
            "grid_template_columns": null,
            "grid_template_rows": null,
            "height": null,
            "justify_content": null,
            "justify_items": null,
            "left": null,
            "margin": null,
            "max_height": null,
            "max_width": null,
            "min_height": null,
            "min_width": null,
            "object_fit": null,
            "object_position": null,
            "order": null,
            "overflow": null,
            "overflow_x": null,
            "overflow_y": null,
            "padding": null,
            "right": null,
            "top": null,
            "visibility": null,
            "width": null
          }
        },
        "15e2021429874f2c8e43d6c70990066a": {
          "model_module": "@jupyter-widgets/base",
          "model_name": "LayoutModel",
          "model_module_version": "1.2.0",
          "state": {
            "_model_module": "@jupyter-widgets/base",
            "_model_module_version": "1.2.0",
            "_model_name": "LayoutModel",
            "_view_count": null,
            "_view_module": "@jupyter-widgets/base",
            "_view_module_version": "1.2.0",
            "_view_name": "LayoutView",
            "align_content": null,
            "align_items": null,
            "align_self": null,
            "border": null,
            "bottom": null,
            "display": null,
            "flex": null,
            "flex_flow": null,
            "grid_area": null,
            "grid_auto_columns": null,
            "grid_auto_flow": null,
            "grid_auto_rows": null,
            "grid_column": null,
            "grid_gap": null,
            "grid_row": null,
            "grid_template_areas": null,
            "grid_template_columns": null,
            "grid_template_rows": null,
            "height": null,
            "justify_content": null,
            "justify_items": null,
            "left": null,
            "margin": null,
            "max_height": null,
            "max_width": null,
            "min_height": null,
            "min_width": null,
            "object_fit": null,
            "object_position": null,
            "order": null,
            "overflow": null,
            "overflow_x": null,
            "overflow_y": null,
            "padding": null,
            "right": null,
            "top": null,
            "visibility": null,
            "width": null
          }
        },
        "ad3b9bb8bb514c27b82030c025f11b80": {
          "model_module": "@jupyter-widgets/controls",
          "model_name": "DescriptionStyleModel",
          "model_module_version": "1.5.0",
          "state": {
            "_model_module": "@jupyter-widgets/controls",
            "_model_module_version": "1.5.0",
            "_model_name": "DescriptionStyleModel",
            "_view_count": null,
            "_view_module": "@jupyter-widgets/base",
            "_view_module_version": "1.2.0",
            "_view_name": "StyleView",
            "description_width": ""
          }
        },
        "e8b580d6bf9941d7b0d5521dc3d6533e": {
          "model_module": "@jupyter-widgets/base",
          "model_name": "LayoutModel",
          "model_module_version": "1.2.0",
          "state": {
            "_model_module": "@jupyter-widgets/base",
            "_model_module_version": "1.2.0",
            "_model_name": "LayoutModel",
            "_view_count": null,
            "_view_module": "@jupyter-widgets/base",
            "_view_module_version": "1.2.0",
            "_view_name": "LayoutView",
            "align_content": null,
            "align_items": null,
            "align_self": null,
            "border": null,
            "bottom": null,
            "display": null,
            "flex": null,
            "flex_flow": null,
            "grid_area": null,
            "grid_auto_columns": null,
            "grid_auto_flow": null,
            "grid_auto_rows": null,
            "grid_column": null,
            "grid_gap": null,
            "grid_row": null,
            "grid_template_areas": null,
            "grid_template_columns": null,
            "grid_template_rows": null,
            "height": null,
            "justify_content": null,
            "justify_items": null,
            "left": null,
            "margin": null,
            "max_height": null,
            "max_width": null,
            "min_height": null,
            "min_width": null,
            "object_fit": null,
            "object_position": null,
            "order": null,
            "overflow": null,
            "overflow_x": null,
            "overflow_y": null,
            "padding": null,
            "right": null,
            "top": null,
            "visibility": null,
            "width": null
          }
        },
        "795b001905cc4ed6947d7daf7c0eec84": {
          "model_module": "@jupyter-widgets/controls",
          "model_name": "ProgressStyleModel",
          "model_module_version": "1.5.0",
          "state": {
            "_model_module": "@jupyter-widgets/controls",
            "_model_module_version": "1.5.0",
            "_model_name": "ProgressStyleModel",
            "_view_count": null,
            "_view_module": "@jupyter-widgets/base",
            "_view_module_version": "1.2.0",
            "_view_name": "StyleView",
            "bar_color": null,
            "description_width": ""
          }
        },
        "6c52dbf346384692ae3be0459c253a22": {
          "model_module": "@jupyter-widgets/base",
          "model_name": "LayoutModel",
          "model_module_version": "1.2.0",
          "state": {
            "_model_module": "@jupyter-widgets/base",
            "_model_module_version": "1.2.0",
            "_model_name": "LayoutModel",
            "_view_count": null,
            "_view_module": "@jupyter-widgets/base",
            "_view_module_version": "1.2.0",
            "_view_name": "LayoutView",
            "align_content": null,
            "align_items": null,
            "align_self": null,
            "border": null,
            "bottom": null,
            "display": null,
            "flex": null,
            "flex_flow": null,
            "grid_area": null,
            "grid_auto_columns": null,
            "grid_auto_flow": null,
            "grid_auto_rows": null,
            "grid_column": null,
            "grid_gap": null,
            "grid_row": null,
            "grid_template_areas": null,
            "grid_template_columns": null,
            "grid_template_rows": null,
            "height": null,
            "justify_content": null,
            "justify_items": null,
            "left": null,
            "margin": null,
            "max_height": null,
            "max_width": null,
            "min_height": null,
            "min_width": null,
            "object_fit": null,
            "object_position": null,
            "order": null,
            "overflow": null,
            "overflow_x": null,
            "overflow_y": null,
            "padding": null,
            "right": null,
            "top": null,
            "visibility": null,
            "width": null
          }
        },
        "678cf42175f64407aa4d06b329156e0c": {
          "model_module": "@jupyter-widgets/controls",
          "model_name": "DescriptionStyleModel",
          "model_module_version": "1.5.0",
          "state": {
            "_model_module": "@jupyter-widgets/controls",
            "_model_module_version": "1.5.0",
            "_model_name": "DescriptionStyleModel",
            "_view_count": null,
            "_view_module": "@jupyter-widgets/base",
            "_view_module_version": "1.2.0",
            "_view_name": "StyleView",
            "description_width": ""
          }
        }
      }
    }
  },
  "nbformat": 4,
  "nbformat_minor": 0
}