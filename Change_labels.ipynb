{
  "nbformat": 4,
  "nbformat_minor": 0,
  "metadata": {
    "colab": {
      "provenance": [],
      "authorship_tag": "ABX9TyPTVc2Sg6swrYfokLW2Vcve",
      "include_colab_link": true
    },
    "kernelspec": {
      "name": "python3",
      "display_name": "Python 3"
    },
    "language_info": {
      "name": "python"
    }
  },
  "cells": [
    {
      "cell_type": "markdown",
      "metadata": {
        "id": "view-in-github",
        "colab_type": "text"
      },
      "source": [
        "<a href=\"https://colab.research.google.com/github/deivismartinez/NER-Medical-Uninorte/blob/main/Change_labels.ipynb\" target=\"_parent\"><img src=\"https://colab.research.google.com/assets/colab-badge.svg\" alt=\"Open In Colab\"/></a>"
      ]
    },
    {
      "cell_type": "code",
      "source": [
        "import glob\n",
        "import os\n",
        "from typing import List\n",
        "import zipfile\n",
        "from google.colab import files"
      ],
      "metadata": {
        "id": "hC49H1M8GKBv"
      },
      "execution_count": null,
      "outputs": []
    },
    {
      "cell_type": "code",
      "execution_count": null,
      "metadata": {
        "id": "lnWPxubBCh_a"
      },
      "outputs": [],
      "source": [
        "!cd /content && git clone https://github.com/nlplab/brat.git"
      ]
    },
    {
      "cell_type": "code",
      "source": [
        "!wget https://github.com/deivismartinez/NER-Medical-Uninorte/raw/main/system2024.zip?download=1 -O system.zip"
      ],
      "metadata": {
        "colab": {
          "base_uri": "https://localhost:8080/"
        },
        "id": "nkehEUiADTk-",
        "outputId": "1e09ba98-5e68-4092-8e3d-3ac000397b9a"
      },
      "execution_count": null,
      "outputs": [
        {
          "output_type": "stream",
          "name": "stdout",
          "text": [
            "--2024-07-19 03:41:57--  https://github.com/deivismartinez/NER-Medical-Uninorte/raw/main/system2024.zip?download=1\n",
            "Resolving github.com (github.com)... 140.82.112.3\n",
            "Connecting to github.com (github.com)|140.82.112.3|:443... connected.\n",
            "HTTP request sent, awaiting response... 302 Found\n",
            "Location: https://raw.githubusercontent.com/deivismartinez/NER-Medical-Uninorte/main/system2024.zip [following]\n",
            "--2024-07-19 03:41:58--  https://raw.githubusercontent.com/deivismartinez/NER-Medical-Uninorte/main/system2024.zip\n",
            "Resolving raw.githubusercontent.com (raw.githubusercontent.com)... 185.199.110.133, 185.199.109.133, 185.199.108.133, ...\n",
            "Connecting to raw.githubusercontent.com (raw.githubusercontent.com)|185.199.110.133|:443... connected.\n",
            "HTTP request sent, awaiting response... 200 OK\n",
            "Length: 22367346 (21M) [application/zip]\n",
            "Saving to: ‘system.zip’\n",
            "\n",
            "system.zip          100%[===================>]  21.33M  --.-KB/s    in 0.1s    \n",
            "\n",
            "2024-07-19 03:41:58 (151 MB/s) - ‘system.zip’ saved [22367346/22367346]\n",
            "\n"
          ]
        }
      ]
    },
    {
      "cell_type": "code",
      "source": [
        "!unzip system.zip -d /content/systemd/"
      ],
      "metadata": {
        "id": "6-6UiI5lFYzb"
      },
      "execution_count": null,
      "outputs": []
    },
    {
      "cell_type": "code",
      "source": [
        "def change_tags(old_value, new_value, file_name):\n",
        "  with open(file_name, \"rt\") as file:\n",
        "    x = file.read()\n",
        "\n",
        "  with open(file_name, \"wt\") as file:\n",
        "    x = x.replace(old_value,new_value)\n",
        "    file.write(x)\n",
        "\n",
        "############################################\n",
        "def do_changes():\n",
        "  gold_files = glob.glob(\"/content/systemd/system/gold/*.ann\")\n",
        "  for file in gold_files:\n",
        "    change(file)\n",
        "\n",
        "  for model_name in glob.glob(\"/content/systemd/system/*\"):\n",
        "    if \"model_\" in model_name:\n",
        "      gold_files = glob.glob(f\"{model_name}/test2/*.ann\")\n",
        "      for file in gold_files:\n",
        "        change(file)\n",
        "\n",
        "##############################################\n",
        "def change(file_name):\n",
        "  change_tags(old_value = \"NOMBRE_PERSONAL_SANITARIO\", new_value=\"NOMBRE\",file_name=file_name)\n",
        "  change_tags(old_value = \"NOMBRE_SUJETO_ASISTENCIA\", new_value=\"NOMBRE\",file_name=file_name)\n",
        "  change_tags(old_value = \"FAMILIARES_SUJETO_ASISTENCIA\", new_value=\"NOMBRE\",file_name=file_name)\n",
        "  change_tags(old_value = \"OTROS_SUJETO_ASISTENCIA\", new_value=\"NOMBRE\",file_name=file_name)\n",
        "\n",
        "  change_tags(old_value = \"TERRITORIO\", new_value=\"LUGAR\",file_name=file_name)\n",
        "  change_tags(old_value = \"PAIS\", new_value=\"LUGAR\",file_name=file_name)\n",
        "  change_tags(old_value = \"CALLE\", new_value=\"LUGAR\",file_name=file_name)\n",
        "\n",
        "  change_tags(old_value = \"CENTRO_SALUD\", new_value=\"ORGANIZACION\",file_name=file_name)\n",
        "  change_tags(old_value = \"HOSPITAL\", new_value=\"ORGANIZACION\",file_name=file_name)\n",
        "  change_tags(old_value = \"INSTITUCION\", new_value=\"ORGANIZACION\",file_name=file_name)\n",
        "\n",
        "#################################################\n"
      ],
      "metadata": {
        "id": "HfQaoX1mFdYS"
      },
      "execution_count": null,
      "outputs": []
    },
    {
      "cell_type": "code",
      "source": [
        "do_changes()"
      ],
      "metadata": {
        "id": "m5FWHvAfF5ms"
      },
      "execution_count": null,
      "outputs": []
    },
    {
      "cell_type": "code",
      "source": [
        "def delete_tags(file_name):\n",
        "  with open(file_name, \"rt\") as file:\n",
        "    x = [row for row in file.readlines() if \"NOMBRE\" in row]\n",
        "  with open(file_name, \"wt\") as file:\n",
        "    file.writelines(x)"
      ],
      "metadata": {
        "id": "sTWN9iIVF-xW"
      },
      "execution_count": null,
      "outputs": []
    }
  ]
}