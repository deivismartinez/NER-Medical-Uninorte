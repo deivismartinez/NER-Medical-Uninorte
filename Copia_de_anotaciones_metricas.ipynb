{
  "nbformat": 4,
  "nbformat_minor": 0,
  "metadata": {
    "colab": {
      "provenance": [],
      "include_colab_link": true
    },
    "kernelspec": {
      "name": "python3",
      "display_name": "Python 3"
    },
    "language_info": {
      "name": "python"
    }
  },
  "cells": [
    {
      "cell_type": "markdown",
      "metadata": {
        "id": "view-in-github",
        "colab_type": "text"
      },
      "source": [
        "<a href=\"https://colab.research.google.com/github/deivismartinez/NER-Medical-Uninorte/blob/main/Copia_de_anotaciones_metricas.ipynb\" target=\"_parent\"><img src=\"https://colab.research.google.com/assets/colab-badge.svg\" alt=\"Open In Colab\"/></a>"
      ]
    },
    {
      "cell_type": "code",
      "execution_count": null,
      "metadata": {
        "id": "ibgOjvOGfFIl",
        "colab": {
          "base_uri": "https://localhost:8080/"
        },
        "outputId": "cd2a9880-6b90-459a-a620-c2f405e089cb"
      },
      "outputs": [
        {
          "output_type": "stream",
          "name": "stdout",
          "text": [
            "Cloning into 'brat'...\n",
            "remote: Enumerating objects: 17077, done.\u001b[K\n",
            "remote: Counting objects: 100% (48/48), done.\u001b[K\n",
            "remote: Compressing objects: 100% (33/33), done.\u001b[K\n",
            "remote: Total 17077 (delta 17), reused 36 (delta 15), pack-reused 17029\u001b[K\n",
            "Receiving objects: 100% (17077/17077), 84.48 MiB | 20.33 MiB/s, done.\n",
            "Resolving deltas: 100% (10311/10311), done.\n"
          ]
        }
      ],
      "source": [
        "!cd /content && git clone https://github.com/nlplab/brat.git"
      ]
    },
    {
      "cell_type": "code",
      "source": [
        "!wget https://github.com/deivismartinez/NER-Medical-Uninorte/raw/main/systemd.zip?download=1 -O system.zip"
      ],
      "metadata": {
        "id": "fCwIUDqztNGD",
        "colab": {
          "base_uri": "https://localhost:8080/"
        },
        "outputId": "abf3aa8f-5bf9-411b-de92-80cc5d4b06c3"
      },
      "execution_count": null,
      "outputs": [
        {
          "output_type": "stream",
          "name": "stdout",
          "text": [
            "--2023-03-11 12:55:06--  https://github.com/deivismartinez/NER-Medical-Uninorte/raw/main/systemd.zip?download=1\n",
            "Resolving github.com (github.com)... 140.82.112.4\n",
            "Connecting to github.com (github.com)|140.82.112.4|:443... connected.\n",
            "HTTP request sent, awaiting response... 302 Found\n",
            "Location: https://raw.githubusercontent.com/deivismartinez/NER-Medical-Uninorte/main/systemd.zip [following]\n",
            "--2023-03-11 12:55:06--  https://raw.githubusercontent.com/deivismartinez/NER-Medical-Uninorte/main/systemd.zip\n",
            "Resolving raw.githubusercontent.com (raw.githubusercontent.com)... 185.199.108.133, 185.199.109.133, 185.199.110.133, ...\n",
            "Connecting to raw.githubusercontent.com (raw.githubusercontent.com)|185.199.108.133|:443... connected.\n",
            "HTTP request sent, awaiting response... 200 OK\n",
            "Length: 8098778 (7.7M) [application/zip]\n",
            "Saving to: ‘system.zip’\n",
            "\n",
            "system.zip          100%[===================>]   7.72M  47.3MB/s    in 0.2s    \n",
            "\n",
            "2023-03-11 12:55:07 (47.3 MB/s) - ‘system.zip’ saved [8098778/8098778]\n",
            "\n"
          ]
        }
      ]
    },
    {
      "cell_type": "code",
      "source": [
        "!unzip system"
      ],
      "metadata": {
        "id": "u1JdzrfDtjfq"
      },
      "execution_count": null,
      "outputs": []
    },
    {
      "cell_type": "code",
      "source": [
        "def change_tags(old_value, new_value, file_name):\n",
        "  with open(file_name, \"rt\") as file:\n",
        "    x = file.read()\n",
        "\t\n",
        "  with open(file_name, \"wt\") as file:\n",
        "    x = x.replace(old_value,new_value)\n",
        "    file.write(x)"
      ],
      "metadata": {
        "id": "VIkwmoCRLeVT"
      },
      "execution_count": null,
      "outputs": []
    },
    {
      "cell_type": "code",
      "source": [
        "def do_changes():\n",
        "  gold_files = glob.glob(\"/content/systemd/gold/*.ann\")\n",
        "  for file in gold_files:\n",
        "    change(file)\n",
        "\n",
        "  for model_name in glob.glob(\"/content/systemd/*\"):\n",
        "    if \"model_\" in model_name:\n",
        "      gold_files = glob.glob(f\"{model_name}/test2/*.ann\")\n",
        "      for file in gold_files:\n",
        "        change(file)"
      ],
      "metadata": {
        "id": "404hnCDLXFux"
      },
      "execution_count": null,
      "outputs": []
    },
    {
      "cell_type": "code",
      "source": [
        "def change(file_name):\n",
        "  change_tags(old_value = \"NOMBRE_PERSONAL_SANITARIO\", new_value=\"NOMBRE\",file_name=file_name)\n",
        "  change_tags(old_value = \"NOMBRE_SUJETO_ASISTENCIA\", new_value=\"NOMBRE\",file_name=file_name)\n",
        "  change_tags(old_value = \"FAMILIARES_SUJETO_ASISTENCIA\", new_value=\"NOMBRE\",file_name=file_name)\n",
        "  change_tags(old_value = \"OTROS_SUJETO_ASISTENCIA\", new_value=\"NOMBRE\",file_name=file_name)\n",
        "\n",
        "  change_tags(old_value = \"TERRITORIO\", new_value=\"LUGAR\",file_name=file_name)\n",
        "  change_tags(old_value = \"PAIS\", new_value=\"LUGAR\",file_name=file_name)\n",
        "  change_tags(old_value = \"CALLE\", new_value=\"LUGAR\",file_name=file_name)\n",
        "\n",
        "  change_tags(old_value = \"CENTRO_SALUD\", new_value=\"ORGANIZACION\",file_name=file_name)\n",
        "  change_tags(old_value = \"HOSPITAL\", new_value=\"ORGANIZACION\",file_name=file_name)\n",
        "  change_tags(old_value = \"INSTITUCION\", new_value=\"ORGANIZACION\",file_name=file_name)"
      ],
      "metadata": {
        "id": "gD8IZaMiNYtf"
      },
      "execution_count": null,
      "outputs": []
    },
    {
      "cell_type": "code",
      "source": [
        "do_changes()"
      ],
      "metadata": {
        "id": "64tAL_ZuaGVQ"
      },
      "execution_count": null,
      "outputs": []
    },
    {
      "cell_type": "code",
      "source": [
        "!pip install seqeval"
      ],
      "metadata": {
        "id": "ZY4DC3n-nNOS"
      },
      "execution_count": null,
      "outputs": []
    },
    {
      "cell_type": "code",
      "source": [
        "from seqeval.metrics import accuracy_score\n",
        "from seqeval.metrics import classification_report\n",
        "from seqeval.metrics.sequence_labeling import precision_score, recall_score\n",
        "from seqeval.metrics import f1_score\n",
        "import glob\n",
        "import os\n",
        "from typing import List"
      ],
      "metadata": {
        "id": "tOfXBSC7nfoM"
      },
      "execution_count": null,
      "outputs": []
    },
    {
      "cell_type": "code",
      "source": [
        "def do_file_gold_conll():\n",
        "  gold_files = glob.glob(\"/content/systemd/gold/*.txt\")\n",
        "\n",
        "  for file in gold_files:\n",
        "    command = f\"\"\"\n",
        "    python /content/brat/tools/anntoconll.py \"{file}\"\n",
        "    \"\"\"\n",
        "    os.system(command)"
      ],
      "metadata": {
        "id": "8SFuzHImy1pG"
      },
      "execution_count": null,
      "outputs": []
    },
    {
      "cell_type": "code",
      "source": [
        "def do_file_pred_conll(model):\n",
        "  pred_files = glob.glob(f\"{model}/test2/*.txt\")\n",
        "\n",
        "  for file in pred_files:\n",
        "    command = f\"\"\"\n",
        "    python /content/brat/tools/anntoconll.py \"{file}\"\n",
        "    \"\"\"\n",
        "    os.system(command)"
      ],
      "metadata": {
        "id": "udQivfnGkfh3"
      },
      "execution_count": null,
      "outputs": []
    },
    {
      "cell_type": "code",
      "source": [
        "def create_file():\n",
        "  do_file_gold_conll()\n",
        "  for model_name in glob.glob(\"/content/systemd/*\"):\n",
        "    if \"model_\" in model_name:\n",
        "      do_file_pred_conll(model=model_name)"
      ],
      "metadata": {
        "id": "2LyMVCat3qz-"
      },
      "execution_count": null,
      "outputs": []
    },
    {
      "cell_type": "code",
      "source": [
        "create_file()"
      ],
      "metadata": {
        "id": "Cu8f_EcB5C85"
      },
      "execution_count": null,
      "outputs": []
    },
    {
      "cell_type": "code",
      "source": [
        "models_name = {\"/content/systemd/model_1\":\"roberta-large-bne-capitel-ner\",\n",
        "\"/content/systemd/model_2\":\"roberta-base-bne-capitel-ner-plus\",\n",
        "\"/content/systemd/model_3\":\"roberta-base-bne-capitel-ner\",\n",
        "\"/content/systemd/model_4\":\"bsc-bio-ehr-es-pharmaconer\",\n",
        "\"/content/systemd/model_5\":\"roberta-base-bne-capitel-pos\", \n",
        "\"/content/systemd/model_6\":\"bert-base-multilingual-cased-ner-hrl\", \n",
        "\"/content/systemd/model_7\":\"xlm-roberta-base-wikiann-ner\", \n",
        "\"/content/systemd/model_8\":\"xlm-roberta-base-ner-hrl\", \n",
        "\"/content/systemd/model_9\":\"distilbert-base-multilingual-cased-ner-hrl\",\n",
        "\"/content/systemd/model_10\":\"xlm-roberta-large-ner-hrl\", \n",
        "\"/content/systemd/model_11\":\"bert-spanish-cased-finetuned-ner\", \n",
        "\"/content/systemd/model_12\":\"TinyBERT-spanish-uncased-finetuned-ner\", \n",
        "\"/content/systemd/model_13\":\"RuPERTa-base-finetuned-ner\", \n",
        "\"/content/systemd/model_14\":\"ner-spanish-large\", \n",
        "\"/content/systemd/model_15\":\"ner-multi\", \n",
        "\"/content/systemd/model_16\":\"anglicisms-spanish-mbert\", \n",
        "\"/content/systemd/model_17\":\"anglicisms-spanish-flair-cs\", \n",
        "\"/content/systemd/model_18\":\"xlm-roberta-large-ner-spanish\", \n",
        "\"/content/systemd/model_19\":\"wikineural-multilingual-ner\", \n",
        "\"/content/systemd/model_20\":\"distilbert-base-multilingual-cased-finetuned-conll2003-ner\", \n",
        "\"/content/systemd/model_21\":\"bertin-base-ner-conll2002-es\", \n",
        "\"/content/systemd/model_22\":\"xlm-roberta-base-finetuned-panx-ner\",\n",
        "\"/content/systemd/model_23\":\"stanza-es\"}"
      ],
      "metadata": {
        "id": "dfuUAZtCyaxm"
      },
      "execution_count": null,
      "outputs": []
    },
    {
      "cell_type": "code",
      "source": [
        "def read_tags(fpath: str) -> List:\n",
        "  lines = open(fpath, 'r').read()\n",
        "  lines = lines.split(\"\\n\")\n",
        "  lines = [line.split(\"\\t\") for line in lines]\n",
        "  tags = [line[0] for line in lines if len(line) > 1]\n",
        "  return tags"
      ],
      "metadata": {
        "id": "jV4z-ngRncwW"
      },
      "execution_count": null,
      "outputs": []
    },
    {
      "cell_type": "code",
      "source": [
        "def do_table(model,file_t,file_tp):\n",
        "  gold_files = glob.glob(\"/content/systemd/gold/*.conll\")\n",
        "  pred_files = glob.glob(f\"{model}/test2/*.conll\")\n",
        "  gold_tags = [read_tags(file) for file in gold_files]\n",
        "  pred_tags = [read_tags(file) for file in pred_files]\n",
        "  f1 = f1_score(y_true=gold_tags, y_pred=pred_tags)\n",
        "  print(f1)\n",
        "  precision = precision_score(y_true=gold_tags, y_pred=pred_tags)\n",
        "  print(precision)\n",
        "  recall = recall_score(y_true=gold_tags, y_pred=pred_tags)\n",
        "  print(recall)\n",
        "  file_tp.write(models_name[model]+'\\t'+str(precision)+'\\t'+str(recall)+'\\t'+str(f1)+'\\n')\n",
        "  statistics = classification_report(y_true=gold_tags, y_pred=pred_tags)\n",
        "  do_file(statistics=statistics,file_t=file_t,model=models_name[model])"
      ],
      "metadata": {
        "id": "UJPJCy79ASfJ"
      },
      "execution_count": null,
      "outputs": []
    },
    {
      "cell_type": "code",
      "source": [
        "file_t= open(\"tabla_results.csv\",\"w\")\n",
        "file_tp= open(\"tabla_p.txt\",\"w\")\n",
        "file_tp.write('Modelo\\tPrecission\\tRecall\\tF1\\n')\n",
        "for model_name in glob.glob(\"/content/systemd/*\"):\n",
        "    if \"model_\" in model_name:\n",
        "      try:\n",
        "        do_table(model=model_name,file_t=file_t,file_tp=file_tp)\n",
        "      except:\n",
        "        print(\"NO se pudo\")\n",
        "file_tp.close()\n",
        "file_t.close()"
      ],
      "metadata": {
        "id": "nwAPWEtDCPM0",
        "colab": {
          "base_uri": "https://localhost:8080/"
        },
        "outputId": "37a164fc-5c18-4c5e-8d72-b1089fed6cff"
      },
      "execution_count": null,
      "outputs": [
        {
          "output_type": "stream",
          "name": "stdout",
          "text": [
            "0.11556829035339064\n",
            "0.1677061677061677\n",
            "0.08816029143897997\n"
          ]
        },
        {
          "output_type": "stream",
          "name": "stderr",
          "text": [
            "/usr/local/lib/python3.9/dist-packages/seqeval/metrics/v1.py:57: UndefinedMetricWarning: Precision and F-score are ill-defined and being set to 0.0 in labels with no predicted samples. Use `zero_division` parameter to control this behavior.\n",
            "  _warn_prf(average, modifier, msg_start, len(result))\n"
          ]
        },
        {
          "output_type": "stream",
          "name": "stdout",
          "text": [
            "NO se pudo\n",
            "0.11431293165039295\n",
            "0.16506189821182943\n",
            "0.08743169398907104\n",
            "NO se pudo\n",
            "NO se pudo\n",
            "NO se pudo\n",
            "0.35489587948604345\n",
            "0.45279819106840025\n",
            "0.29180327868852457\n",
            "NO se pudo\n",
            "NO se pudo\n",
            "0.14175837179032066\n",
            "0.20229652144545762\n",
            "0.10910746812386157\n",
            "0.09543664581885569\n",
            "0.08283071974266185\n",
            "0.11256830601092896\n",
            "NO se pudo\n",
            "NO se pudo\n",
            "0.36155867900811334\n",
            "0.4851272615762036\n",
            "0.28816029143898\n",
            "0.12423625254582486\n",
            "0.1639784946236559\n",
            "0.1\n",
            "0.3908202681208816\n",
            "0.5193236714975845\n",
            "0.3132969034608379\n"
          ]
        }
      ]
    },
    {
      "cell_type": "code",
      "source": [
        "def do_file(statistics,file_t,model):\n",
        "  rows_new = statistics.split('\\n')\n",
        "  file_t.write(model+'\\n')\n",
        "  for row_new in rows_new:\n",
        "    for value in row_new.split('\\t'):\n",
        "      file_t.write(value+'\\t')\n",
        "    file_t.write('\\n')"
      ],
      "metadata": {
        "id": "ZTJvshVhn_9u"
      },
      "execution_count": null,
      "outputs": []
    },
    {
      "cell_type": "code",
      "source": [
        "f1 = f1_score(y_true=gold_tags, y_pred=pred_tags)\n",
        "print(f1)"
      ],
      "metadata": {
        "colab": {
          "base_uri": "https://localhost:8080/"
        },
        "id": "i64lBlIjn8JG",
        "outputId": "07950955-9b08-4ef7-fed0-83e5f6d8ef04"
      },
      "execution_count": null,
      "outputs": [
        {
          "output_type": "stream",
          "name": "stdout",
          "text": [
            "0.05051435590357746\n"
          ]
        }
      ]
    },
    {
      "cell_type": "code",
      "source": [
        "\n",
        "precision = precision_score(y_true=gold_tags, y_pred=pred_tags)\n",
        "print(precision)"
      ],
      "metadata": {
        "id": "K2_c-zlojImA",
        "outputId": "ec882c48-1bb3-4846-e8b6-f7f24e698aa7",
        "colab": {
          "base_uri": "https://localhost:8080/"
        }
      },
      "execution_count": null,
      "outputs": [
        {
          "output_type": "stream",
          "name": "stdout",
          "text": [
            "0.23431317128321086\n"
          ]
        }
      ]
    },
    {
      "cell_type": "code",
      "source": [],
      "metadata": {
        "id": "zzpzE4s6pcTl",
        "outputId": "9c5eb314-850c-4fd1-e3d9-37567e0c4adf",
        "colab": {
          "base_uri": "https://localhost:8080/"
        }
      },
      "execution_count": null,
      "outputs": [
        {
          "output_type": "stream",
          "name": "stderr",
          "text": [
            "/usr/local/lib/python3.9/dist-packages/seqeval/metrics/v1.py:57: UndefinedMetricWarning: Precision and F-score are ill-defined and being set to 0.0 in labels with no predicted samples. Use `zero_division` parameter to control this behavior.\n",
            "  _warn_prf(average, modifier, msg_start, len(result))\n"
          ]
        }
      ]
    },
    {
      "cell_type": "code",
      "source": [
        "do_file()"
      ],
      "metadata": {
        "id": "HQW69wBSpjF8"
      },
      "execution_count": null,
      "outputs": []
    },
    {
      "cell_type": "code",
      "source": [
        "classification_report(y_true, y_pred)"
      ],
      "metadata": {
        "id": "ZQokJBTrnbsA"
      },
      "execution_count": null,
      "outputs": []
    },
    {
      "cell_type": "code",
      "source": [
        "y_true = [['O', 'O', 'O', 'B-MISC', 'I-MISC', 'I-MISC', 'O'], ['B-PER', 'I-PER', 'O']]\n",
        "y_pred = [['O', 'O', 'B-MISC', 'I-MISC', 'I-MISC', 'I-MISC', 'O'], ['B-PER', 'I-PER', 'O']]\n",
        "f1_score(y_true, y_pred)"
      ],
      "metadata": {
        "id": "hI1vqYHNlHKs"
      },
      "execution_count": null,
      "outputs": []
    }
  ]
}